{
 "cells": [
  {
   "cell_type": "code",
   "execution_count": null,
   "id": "3b58caa4",
   "metadata": {},
   "outputs": [],
   "source": [
    "import pandas as pd"
   ]
  },
  {
   "cell_type": "code",
   "execution_count": null,
   "id": "3c41e581",
   "metadata": {},
   "outputs": [],
   "source": [
    "parishes = gpd.read_file('freguesias_shapefiles/gadm36_PRT_3.shp')\n",
    "banners = gpd.read_file(\"/home/primity/projects/wdl-data/banners/Outdoor_Inventory_AV.shp\")"
   ]
  },
  {
   "cell_type": "code",
   "execution_count": null,
   "id": "5146d04e",
   "metadata": {},
   "outputs": [],
   "source": [
    "parish_num_banners = {}\n",
    "banners_coords = list(banners.geometry)\n",
    "for _, parish in tqdm(parishes.iterrows(), total=len(parishes)):\n",
    "    parish_num_banners[parish.NAME_3]  = 0\n",
    "    for ad in banners_coords:\n",
    "        if ad.within(parish.geometry):\n",
    "            parish_num_banners[parish.NAME_3] += 1"
   ]
  },
  {
   "cell_type": "code",
   "execution_count": null,
   "id": "28833b87",
   "metadata": {},
   "outputs": [],
   "source": [
    "data = []\n",
    "for parish, n_banners in parish_num_banners.items():\n",
    "    data.append([parish, n_banners])\n",
    "df = pd.DataFrame(data, columns=['Parish', 'n_banners'])"
   ]
  },
  {
   "cell_type": "code",
   "execution_count": null,
   "id": "c715c0c3",
   "metadata": {},
   "outputs": [],
   "source": [
    "df.sort_values('n_banners', ascending = False).to_csv('banner_numbers.csv')"
   ]
  }
 ],
 "metadata": {
  "kernelspec": {
   "display_name": "Python 3",
   "language": "python",
   "name": "python3"
  },
  "language_info": {
   "codemirror_mode": {
    "name": "ipython",
    "version": 3
   },
   "file_extension": ".py",
   "mimetype": "text/x-python",
   "name": "python",
   "nbconvert_exporter": "python",
   "pygments_lexer": "ipython3",
   "version": "3.9.2"
  }
 },
 "nbformat": 4,
 "nbformat_minor": 5
}
