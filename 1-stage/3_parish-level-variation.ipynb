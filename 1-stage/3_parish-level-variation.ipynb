{
 "cells": [
  {
   "cell_type": "markdown",
   "id": "documentary-science",
   "metadata": {},
   "source": [
    "With both the User profiles table (with its information condensed in our 'Variations' table, and 'County-level' granularity for origin) and the demands table (which tells us where the traffic goes for each county, with a 'Parish-level' granularity for destination), for **each demographic** we can estimate the **variations in travellers for county-parish routes**.  \n",
    "We can use this information to pinpoint churn more accurately."
   ]
  },
  {
   "cell_type": "code",
   "execution_count": 1,
   "id": "fitted-jacksonville",
   "metadata": {},
   "outputs": [],
   "source": [
    "import pandas as pd"
   ]
  },
  {
   "cell_type": "markdown",
   "id": "criminal-sitting",
   "metadata": {},
   "source": [
    "Our variation table and the demand table, with the dicofre code already translated to Parish name"
   ]
  },
  {
   "cell_type": "code",
   "execution_count": 2,
   "id": "balanced-brazil",
   "metadata": {},
   "outputs": [],
   "source": [
    "variation = pd.read_csv('intermediate-data/variation.csv')\n",
    "demand_parish = pd.read_csv('intermediate-data/demand.csv')"
   ]
  },
  {
   "cell_type": "markdown",
   "id": "handled-action",
   "metadata": {},
   "source": [
    "Merging both tables"
   ]
  },
  {
   "cell_type": "code",
   "execution_count": 3,
   "id": "sought-quilt",
   "metadata": {},
   "outputs": [],
   "source": [
    "parish_variation = pd.merge(demand_parish, variation,\n",
    "                    on=['County_of_Origin'])"
   ]
  },
  {
   "cell_type": "markdown",
   "id": "large-schema",
   "metadata": {},
   "source": [
    "By multiplying the weight of each parish in the total demand of its county by the variation of travellers in each county, we can estimate the variations of travellers for each county-parish route. This is simply an estimation, which assumes the variations in number of travellers are similar for parishes in the same county"
   ]
  },
  {
   "cell_type": "code",
   "execution_count": 4,
   "id": "starting-passion",
   "metadata": {},
   "outputs": [],
   "source": [
    "parish_variation['Parish_variation_abs'] = parish_variation.Demand_weight * parish_variation.Variation_abs\n",
    "parish_variation['Parish_variation_rel'] = parish_variation.Demand_weight * parish_variation.Variation_rel"
   ]
  },
  {
   "cell_type": "markdown",
   "id": "controlled-madness",
   "metadata": {},
   "source": [
    "Dropping columns that do not refer to a specific county-parish route "
   ]
  },
  {
   "cell_type": "code",
   "execution_count": 5,
   "id": "professional-produce",
   "metadata": {},
   "outputs": [],
   "source": [
    "parish_variation=parish_variation.drop(['Region_of_Origin_x', \n",
    "                                        'District_of_Origin_x',\n",
    "                                        'Average_BusUsers_per_Day_first', \n",
    "                                        'Average_BusUsers_per_Day_second', \n",
    "                                        'Variation_abs', 'Variation_rel'], 1)\n",
    "# Note: removed duplicate columns, and columns not related to specific county-parish routes"
   ]
  },
  {
   "cell_type": "markdown",
   "id": "racial-behavior",
   "metadata": {},
   "source": [
    "Reordering columns and changing some column names"
   ]
  },
  {
   "cell_type": "code",
   "execution_count": 6,
   "id": "oriental-title",
   "metadata": {},
   "outputs": [],
   "source": [
    "reordered_columns=['Region_of_Origin_y', 'District_of_Origin_y', 'County_of_Origin', \n",
    "'Region_of_Public_Transportation', 'District_of_Public_Transportation', \n",
    "'County_of_Public_Transportation', 'Parish_of_Public_Transportation', \n",
    "'GenderDescription', 'AgeClassDescription', 'Demand_weight',\n",
    "'Parish_variation_abs', 'Parish_variation_rel']\n",
    "parish_variation = parish_variation[reordered_columns]"
   ]
  },
  {
   "cell_type": "code",
   "execution_count": 7,
   "id": "dynamic-craft",
   "metadata": {},
   "outputs": [],
   "source": [
    "parish_variation = parish_variation.rename(\n",
    "                        columns={'Region_of_Origin_y': 'Region_of_Origin',\n",
    "                                'District_of_Origin_y': 'District_of_Origin',\n",
    "                                'Demand_weight': 'Demand_rel_county'})"
   ]
  },
  {
   "cell_type": "markdown",
   "id": "thorough-complex",
   "metadata": {},
   "source": [
    "Save to csv"
   ]
  },
  {
   "cell_type": "code",
   "execution_count": 8,
   "id": "tight-holiday",
   "metadata": {},
   "outputs": [],
   "source": [
    "parish_variation.to_csv('intermediate-data/parish-variation.csv', index=False)"
   ]
  },
  {
   "cell_type": "markdown",
   "id": "authorized-phoenix",
   "metadata": {},
   "source": [
    "Also saving a very simplified version of this table"
   ]
  },
  {
   "cell_type": "code",
   "execution_count": 9,
   "id": "ambient-polls",
   "metadata": {},
   "outputs": [],
   "source": [
    "simplified_columns = ['County_of_Origin', 'Parish_of_Public_Transportation', \n",
    "                      'GenderDescription', 'AgeClassDescription',\n",
    "                      'Parish_variation_abs','Parish_variation_rel']"
   ]
  },
  {
   "cell_type": "code",
   "execution_count": 10,
   "id": "compliant-bolivia",
   "metadata": {},
   "outputs": [],
   "source": [
    "parish_variation[simplified_columns].to_csv('intermediate-data/parish-variation-simplified.csv', index=False)"
   ]
  }
 ],
 "metadata": {
  "kernelspec": {
   "display_name": "Python 3",
   "language": "python",
   "name": "python3"
  },
  "language_info": {
   "codemirror_mode": {
    "name": "ipython",
    "version": 3
   },
   "file_extension": ".py",
   "mimetype": "text/x-python",
   "name": "python",
   "nbconvert_exporter": "python",
   "pygments_lexer": "ipython3",
   "version": "3.9.2"
  }
 },
 "nbformat": 4,
 "nbformat_minor": 5
}
