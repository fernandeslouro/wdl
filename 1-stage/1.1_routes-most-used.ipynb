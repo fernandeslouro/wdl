{
 "cells": [
  {
   "cell_type": "markdown",
   "id": "natural-stand",
   "metadata": {},
   "source": [
    "In this notebook we'll try to add to the **Demand** table an **estimation of the daily number of travellers**.  \n",
    "This will be based on the Demand_weight fields, which is relative to the county. The value of travellers from each county is a weighted mean obtained by grouping data from the Users profile/Variation tables"
   ]
  },
  {
   "cell_type": "code",
   "execution_count": 2,
   "id": "electoral-willow",
   "metadata": {},
   "outputs": [],
   "source": [
    "import pandas as pd"
   ]
  },
  {
   "cell_type": "code",
   "execution_count": 3,
   "id": "appointed-technician",
   "metadata": {},
   "outputs": [],
   "source": [
    "variation = pd.read_csv('intermediate-data/variation.csv')\n",
    "demand = pd.read_csv('/home/primity/wdl/1-stage/intermediate-data/demand.csv')"
   ]
  },
  {
   "cell_type": "markdown",
   "id": "major-palestinian",
   "metadata": {},
   "source": [
    "We start by grouping by the county of origins, and getting the sum of all travellers from that county"
   ]
  },
  {
   "cell_type": "code",
   "execution_count": 4,
   "id": "beginning-clone",
   "metadata": {},
   "outputs": [
    {
     "data": {
      "text/html": [
       "<div>\n",
       "<style scoped>\n",
       "    .dataframe tbody tr th:only-of-type {\n",
       "        vertical-align: middle;\n",
       "    }\n",
       "\n",
       "    .dataframe tbody tr th {\n",
       "        vertical-align: top;\n",
       "    }\n",
       "\n",
       "    .dataframe thead th {\n",
       "        text-align: right;\n",
       "    }\n",
       "</style>\n",
       "<table border=\"1\" class=\"dataframe\">\n",
       "  <thead>\n",
       "    <tr style=\"text-align: right;\">\n",
       "      <th></th>\n",
       "      <th>County_of_Origin</th>\n",
       "      <th>Average_BusUsers_per_Day_first</th>\n",
       "      <th>Average_BusUsers_per_Day_second</th>\n",
       "    </tr>\n",
       "  </thead>\n",
       "  <tbody>\n",
       "    <tr>\n",
       "      <th>0</th>\n",
       "      <td>Alcochete</td>\n",
       "      <td>148.504551</td>\n",
       "      <td>157.793211</td>\n",
       "    </tr>\n",
       "    <tr>\n",
       "      <th>1</th>\n",
       "      <td>Almada</td>\n",
       "      <td>8328.202617</td>\n",
       "      <td>7266.927503</td>\n",
       "    </tr>\n",
       "    <tr>\n",
       "      <th>2</th>\n",
       "      <td>Amadora</td>\n",
       "      <td>8474.874368</td>\n",
       "      <td>6913.452852</td>\n",
       "    </tr>\n",
       "  </tbody>\n",
       "</table>\n",
       "</div>"
      ],
      "text/plain": [
       "  County_of_Origin  Average_BusUsers_per_Day_first  \\\n",
       "0        Alcochete                      148.504551   \n",
       "1           Almada                     8328.202617   \n",
       "2          Amadora                     8474.874368   \n",
       "\n",
       "   Average_BusUsers_per_Day_second  \n",
       "0                       157.793211  \n",
       "1                      7266.927503  \n",
       "2                      6913.452852  "
      ]
     },
     "execution_count": 4,
     "metadata": {},
     "output_type": "execute_result"
    }
   ],
   "source": [
    "county_sum = variation.groupby('County_of_Origin')[['Average_BusUsers_per_Day_first', 'Average_BusUsers_per_Day_second']].sum().reset_index()\n",
    "county_sum.head(3)"
   ]
  },
  {
   "cell_type": "markdown",
   "id": "public-entertainment",
   "metadata": {},
   "source": [
    "And then calculate the mean number of travellers across these two periods, taking int account that the \"Sep-19 to Feb-20\" corresponds to 6 months and the \"sep 20 to Jan-21\" period is 5 months"
   ]
  },
  {
   "cell_type": "code",
   "execution_count": 5,
   "id": "comfortable-arcade",
   "metadata": {},
   "outputs": [],
   "source": [
    "county_sum['user_av'] = county_sum['Average_BusUsers_per_Day_first']*6/11 +county_sum['Average_BusUsers_per_Day_second']*5/11\n",
    "county_sum=county_sum.drop(['Average_BusUsers_per_Day_first', 'Average_BusUsers_per_Day_second'], 1)"
   ]
  },
  {
   "cell_type": "markdown",
   "id": "precise-wichita",
   "metadata": {},
   "source": [
    "We can now merge this to the demand table, and by multiplying these values by the demand weight we can estimate the average number of travellers in each County-Parish \"route\""
   ]
  },
  {
   "cell_type": "code",
   "execution_count": 7,
   "id": "large-technology",
   "metadata": {},
   "outputs": [],
   "source": [
    "demand_people = pd.merge(demand, county_sum,\n",
    "                    right_on=['County_of_Origin'],left_on=['County_of_Public_Transportation'])\n",
    "demand_people['Avg_daily_travellers'] = demand_people['Demand_weight'] * demand_people['user_av']"
   ]
  },
  {
   "cell_type": "code",
   "execution_count": 8,
   "id": "external-lottery",
   "metadata": {},
   "outputs": [
    {
     "data": {
      "text/html": [
       "<div>\n",
       "<style scoped>\n",
       "    .dataframe tbody tr th:only-of-type {\n",
       "        vertical-align: middle;\n",
       "    }\n",
       "\n",
       "    .dataframe tbody tr th {\n",
       "        vertical-align: top;\n",
       "    }\n",
       "\n",
       "    .dataframe thead th {\n",
       "        text-align: right;\n",
       "    }\n",
       "</style>\n",
       "<table border=\"1\" class=\"dataframe\">\n",
       "  <thead>\n",
       "    <tr style=\"text-align: right;\">\n",
       "      <th></th>\n",
       "      <th>Region_of_Origin</th>\n",
       "      <th>District_of_Origin</th>\n",
       "      <th>County_of_Origin_x</th>\n",
       "      <th>Region_of_Public_Transportation</th>\n",
       "      <th>District_of_Public_Transportation</th>\n",
       "      <th>County_of_Public_Transportation</th>\n",
       "      <th>Parish_of_Public_Transportation</th>\n",
       "      <th>Demand_weight</th>\n",
       "      <th>County_of_Origin_y</th>\n",
       "      <th>user_av</th>\n",
       "      <th>Avg_daily_travellers</th>\n",
       "    </tr>\n",
       "  </thead>\n",
       "  <tbody>\n",
       "  </tbody>\n",
       "</table>\n",
       "</div>"
      ],
      "text/plain": [
       "Empty DataFrame\n",
       "Columns: [Region_of_Origin, District_of_Origin, County_of_Origin_x, Region_of_Public_Transportation, District_of_Public_Transportation, County_of_Public_Transportation, Parish_of_Public_Transportation, Demand_weight, County_of_Origin_y, user_av, Avg_daily_travellers]\n",
       "Index: []"
      ]
     },
     "execution_count": 8,
     "metadata": {},
     "output_type": "execute_result"
    }
   ],
   "source": [
    "demand_people.sort_values('Avg_daily_travellers', ascending=False).head(3)"
   ]
  },
  {
   "cell_type": "code",
   "execution_count": 7,
   "id": "positive-pepper",
   "metadata": {},
   "outputs": [],
   "source": [
    "demand_people.to_csv('intermediate-data/demand-people.csv', index=False)"
   ]
  }
 ],
 "metadata": {
  "kernelspec": {
   "display_name": "Python 3",
   "language": "python",
   "name": "python3"
  },
  "language_info": {
   "codemirror_mode": {
    "name": "ipython",
    "version": 3
   },
   "file_extension": ".py",
   "mimetype": "text/x-python",
   "name": "python",
   "nbconvert_exporter": "python",
   "pygments_lexer": "ipython3",
   "version": "3.9.2"
  }
 },
 "nbformat": 4,
 "nbformat_minor": 5
}
