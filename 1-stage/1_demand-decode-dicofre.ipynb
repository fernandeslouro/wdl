{
 "cells": [
  {
   "cell_type": "markdown",
   "id": "angry-sleeve",
   "metadata": {},
   "source": [
    "In this notebook we'll obtain the **destination parish from the DICOFRE** codes. The output will be a demand table with the a column for destination parish, instead of DICOFRE code."
   ]
  },
  {
   "cell_type": "code",
   "execution_count": 1,
   "id": "southwest-seattle",
   "metadata": {},
   "outputs": [],
   "source": [
    "import pandas as pd"
   ]
  },
  {
   "cell_type": "code",
   "execution_count": 2,
   "id": "written-circular",
   "metadata": {},
   "outputs": [],
   "source": [
    "Churn_OD = pd.read_csv('https://wdl-data.fra1.digitaloceanspaces.com/pse/Churn_OD.txt',\n",
    "                                 encoding = \"ISO-8859-1\",\n",
    "                                sep='|', dtype={'Dicofre_ParishCode_of_Public_Transportation': str})"
   ]
  },
  {
   "cell_type": "markdown",
   "id": "acute-content",
   "metadata": {},
   "source": [
    "Obtaining information to decode the DICOFRE code from Portugal's public open access data"
   ]
  },
  {
   "cell_type": "code",
   "execution_count": 3,
   "id": "sound-liability",
   "metadata": {},
   "outputs": [],
   "source": [
    "parishes = pd.read_excel('https://dados.gov.pt/pt/datasets/r/ec6ef805-c278-4b4d-ba9b-3116264f68b4', engine=\"openpyxl\")[['dicofre', 'freguesia']]"
   ]
  },
  {
   "cell_type": "markdown",
   "id": "controlling-vacation",
   "metadata": {},
   "source": [
    "Merging the data"
   ]
  },
  {
   "cell_type": "code",
   "execution_count": 4,
   "id": "hairy-airfare",
   "metadata": {},
   "outputs": [],
   "source": [
    "od_parish = pd.merge(Churn_OD, parishes,\n",
    "                    how='outer',left_on=['Dicofre_ParishCode_of_Public_Transportation'],\n",
    "                    right_on=['dicofre']).dropna().drop(['dicofre', 'Dicofre_ParishCode_of_Public_Transportation'],1)"
   ]
  },
  {
   "cell_type": "markdown",
   "id": "exact-choice",
   "metadata": {},
   "source": [
    "Renaming parish column and moving Demand to leftmost position"
   ]
  },
  {
   "cell_type": "code",
   "execution_count": 5,
   "id": "italic-track",
   "metadata": {},
   "outputs": [],
   "source": [
    "od_parish=od_parish.rename(columns={'freguesia':'Parish_of_Public_Transportation'})"
   ]
  },
  {
   "cell_type": "code",
   "execution_count": 6,
   "id": "fifteen-slovakia",
   "metadata": {},
   "outputs": [],
   "source": [
    "new_cols = [col for col in od_parish.columns if col != 'Demand_weight'] + ['Demand_weight']\n",
    "od_parish = od_parish[new_cols]"
   ]
  },
  {
   "cell_type": "markdown",
   "id": "labeled-fifty",
   "metadata": {},
   "source": [
    "Saving to csv"
   ]
  },
  {
   "cell_type": "code",
   "execution_count": 8,
   "id": "nominated-collect",
   "metadata": {},
   "outputs": [],
   "source": [
    "od_parish.to_csv('intermediate-data/demand.csv', index=False)"
   ]
  }
 ],
 "metadata": {
  "kernelspec": {
   "display_name": "Python 3",
   "language": "python",
   "name": "python3"
  },
  "language_info": {
   "codemirror_mode": {
    "name": "ipython",
    "version": 3
   },
   "file_extension": ".py",
   "mimetype": "text/x-python",
   "name": "python",
   "nbconvert_exporter": "python",
   "pygments_lexer": "ipython3",
   "version": "3.9.2"
  }
 },
 "nbformat": 4,
 "nbformat_minor": 5
}
