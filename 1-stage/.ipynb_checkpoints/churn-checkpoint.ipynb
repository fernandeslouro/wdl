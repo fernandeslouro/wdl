{
 "cells": [
  {
   "cell_type": "code",
   "execution_count": 1,
   "id": "reported-farmer",
   "metadata": {},
   "outputs": [],
   "source": [
    "import pandas as pd\n",
    "import fiona\n",
    "import matplotlib.pyplot as plt\n",
    "pd.options.display.max_rows = 4000\n",
    "from IPython.display import display"
   ]
  },
  {
   "cell_type": "markdown",
   "id": "numerical-burton",
   "metadata": {},
   "source": [
    "**churn_usersprofile**: Socio-demographic characterization and the residence area of the bus users. Information like the gender, age class, county of origin of bus users can be very useful for this challenge.  \n",
    "**churn_od**: Demand for public transportation in each county of origin and its respective parish of destination.  "
   ]
  },
  {
   "cell_type": "markdown",
   "id": "consecutive-tennessee",
   "metadata": {
    "tags": []
   },
   "source": [
    "**Goals**: Create a framework that will allow to measure the increase and decrease the passengers of public transport towards cities that are more inclusive and sustainable.  \n",
    "**Outcome**: Given the public transports users’ profile in two periods, the aggregated OD matrix, and any other external or derived data, this exercise should produce the following major outcomes: Identify churn profiles and drivers, propose measures to win back lost segments and their expected impact."
   ]
  },
  {
   "cell_type": "code",
   "execution_count": 2,
   "id": "molecular-worse",
   "metadata": {},
   "outputs": [],
   "source": [
    "up = pd.read_csv('https://wdl-data.fra1.digitaloceanspaces.com/pse/Churn_UsersProfile.txt',\n",
    "                                 encoding = \"ISO-8859-1\",\n",
    "                                sep='|')\n",
    "od = pd.read_csv('https://wdl-data.fra1.digitaloceanspaces.com/pse/Churn_OD.txt',\n",
    "                                 encoding = \"ISO-8859-1\",\n",
    "                                sep='|', dtype={'Dicofre_ParishCode_of_Public_Transportation': str})"
   ]
  },
  {
   "cell_type": "code",
   "execution_count": 3,
   "id": "sticky-surge",
   "metadata": {},
   "outputs": [
    {
     "data": {
      "text/html": [
       "<div>\n",
       "<style scoped>\n",
       "    .dataframe tbody tr th:only-of-type {\n",
       "        vertical-align: middle;\n",
       "    }\n",
       "\n",
       "    .dataframe tbody tr th {\n",
       "        vertical-align: top;\n",
       "    }\n",
       "\n",
       "    .dataframe thead th {\n",
       "        text-align: right;\n",
       "    }\n",
       "</style>\n",
       "<table border=\"1\" class=\"dataframe\">\n",
       "  <thead>\n",
       "    <tr style=\"text-align: right;\">\n",
       "      <th></th>\n",
       "      <th>Region_of_Origin</th>\n",
       "      <th>District_of_Origin</th>\n",
       "      <th>County_of_Origin</th>\n",
       "      <th>Period</th>\n",
       "      <th>GenderDescription</th>\n",
       "      <th>AgeClassDescription</th>\n",
       "      <th>Average_BusUsers_per_Day</th>\n",
       "    </tr>\n",
       "  </thead>\n",
       "  <tbody>\n",
       "    <tr>\n",
       "      <th>0</th>\n",
       "      <td>R1 - AM Lisboa</td>\n",
       "      <td>Lisboa</td>\n",
       "      <td>Amadora</td>\n",
       "      <td>Sep-19 to Feb-20</td>\n",
       "      <td>Female</td>\n",
       "      <td>15-24</td>\n",
       "      <td>294.194206</td>\n",
       "    </tr>\n",
       "    <tr>\n",
       "      <th>1</th>\n",
       "      <td>R1 - AM Lisboa</td>\n",
       "      <td>Lisboa</td>\n",
       "      <td>Amadora</td>\n",
       "      <td>Sep-19 to Feb-20</td>\n",
       "      <td>Female</td>\n",
       "      <td>25-34</td>\n",
       "      <td>1081.652817</td>\n",
       "    </tr>\n",
       "  </tbody>\n",
       "</table>\n",
       "</div>"
      ],
      "text/plain": [
       "  Region_of_Origin District_of_Origin County_of_Origin            Period  \\\n",
       "0   R1 - AM Lisboa             Lisboa          Amadora  Sep-19 to Feb-20   \n",
       "1   R1 - AM Lisboa             Lisboa          Amadora  Sep-19 to Feb-20   \n",
       "\n",
       "  GenderDescription AgeClassDescription  Average_BusUsers_per_Day  \n",
       "0            Female               15-24                294.194206  \n",
       "1            Female               25-34               1081.652817  "
      ]
     },
     "execution_count": 3,
     "metadata": {},
     "output_type": "execute_result"
    }
   ],
   "source": [
    "up.head(2)"
   ]
  },
  {
   "cell_type": "code",
   "execution_count": 5,
   "id": "negative-flashing",
   "metadata": {},
   "outputs": [
    {
     "data": {
      "text/html": [
       "<div>\n",
       "<style scoped>\n",
       "    .dataframe tbody tr th:only-of-type {\n",
       "        vertical-align: middle;\n",
       "    }\n",
       "\n",
       "    .dataframe tbody tr th {\n",
       "        vertical-align: top;\n",
       "    }\n",
       "\n",
       "    .dataframe thead th {\n",
       "        text-align: right;\n",
       "    }\n",
       "</style>\n",
       "<table border=\"1\" class=\"dataframe\">\n",
       "  <thead>\n",
       "    <tr style=\"text-align: right;\">\n",
       "      <th></th>\n",
       "      <th>Region_of_Origin</th>\n",
       "      <th>District_of_Origin</th>\n",
       "      <th>County_of_Origin</th>\n",
       "      <th>Region_of_Public_Transportation</th>\n",
       "      <th>District_of_Public_Transportation</th>\n",
       "      <th>County_of_Public_Transportation</th>\n",
       "      <th>Dicofre_ParishCode_of_Public_Transportation</th>\n",
       "      <th>Demand_weight</th>\n",
       "    </tr>\n",
       "  </thead>\n",
       "  <tbody>\n",
       "    <tr>\n",
       "      <th>0</th>\n",
       "      <td>R1 - AM Lisboa</td>\n",
       "      <td>Lisboa</td>\n",
       "      <td>Amadora</td>\n",
       "      <td>R1 - AM Lisboa</td>\n",
       "      <td>LISBOA</td>\n",
       "      <td>LISBOA</td>\n",
       "      <td>110608</td>\n",
       "      <td>0.307323</td>\n",
       "    </tr>\n",
       "    <tr>\n",
       "      <th>1</th>\n",
       "      <td>R1 - AM Lisboa</td>\n",
       "      <td>Lisboa</td>\n",
       "      <td>Amadora</td>\n",
       "      <td>R1 - AM Lisboa</td>\n",
       "      <td>LISBOA</td>\n",
       "      <td>LISBOA</td>\n",
       "      <td>110639</td>\n",
       "      <td>0.069997</td>\n",
       "    </tr>\n",
       "  </tbody>\n",
       "</table>\n",
       "</div>"
      ],
      "text/plain": [
       "  Region_of_Origin District_of_Origin County_of_Origin  \\\n",
       "0   R1 - AM Lisboa             Lisboa          Amadora   \n",
       "1   R1 - AM Lisboa             Lisboa          Amadora   \n",
       "\n",
       "  Region_of_Public_Transportation District_of_Public_Transportation  \\\n",
       "0                  R1 - AM Lisboa                            LISBOA   \n",
       "1                  R1 - AM Lisboa                            LISBOA   \n",
       "\n",
       "  County_of_Public_Transportation Dicofre_ParishCode_of_Public_Transportation  \\\n",
       "0                          LISBOA                                      110608   \n",
       "1                          LISBOA                                      110639   \n",
       "\n",
       "   Demand_weight  \n",
       "0       0.307323  \n",
       "1       0.069997  "
      ]
     },
     "execution_count": 5,
     "metadata": {},
     "output_type": "execute_result"
    }
   ],
   "source": [
    "od.head(2)"
   ]
  },
  {
   "cell_type": "code",
   "execution_count": 6,
   "id": "personalized-tattoo",
   "metadata": {
    "tags": []
   },
   "outputs": [
    {
     "name": "stdout",
     "output_type": "stream",
     "text": [
      "(544, 7) (2253, 8)\n"
     ]
    }
   ],
   "source": [
    "print(up.shape, od.shape)"
   ]
  },
  {
   "cell_type": "code",
   "execution_count": 7,
   "id": "green-municipality",
   "metadata": {},
   "outputs": [
    {
     "data": {
      "text/plain": [
       "{'Sep-19 to Feb-20', 'Sep-20 to Jan-21'}"
      ]
     },
     "execution_count": 7,
     "metadata": {},
     "output_type": "execute_result"
    }
   ],
   "source": [
    "set(up.Period)"
   ]
  },
  {
   "cell_type": "markdown",
   "id": "military-frederick",
   "metadata": {},
   "source": [
    "# Analyzing Users Profile"
   ]
  },
  {
   "cell_type": "code",
   "execution_count": 8,
   "id": "electoral-championship",
   "metadata": {},
   "outputs": [
    {
     "data": {
      "text/plain": [
       "Index(['Region_of_Origin', 'District_of_Origin', 'County_of_Origin', 'Period',\n",
       "       'GenderDescription', 'AgeClassDescription', 'Average_BusUsers_per_Day'],\n",
       "      dtype='object')"
      ]
     },
     "execution_count": 8,
     "metadata": {},
     "output_type": "execute_result"
    }
   ],
   "source": [
    "up.columns"
   ]
  },
  {
   "cell_type": "code",
   "execution_count": 9,
   "id": "weekly-civilization",
   "metadata": {},
   "outputs": [
    {
     "data": {
      "text/plain": [
       "array(['Amadora', 'Cascais', 'Lisboa', 'Loures', 'Mafra', 'Odivelas',\n",
       "       'Oeiras', 'Sintra', 'Vila Franca de Xira', 'Alcochete', 'Almada',\n",
       "       'Barreiro', 'Moita', 'Montijo', 'Palmela', 'Seixal', 'Sesimbra',\n",
       "       'Setúbal', 'Espinho', 'Oliveira de Azeméis',\n",
       "       'Santa Maria da Feira', 'Gondomar', 'Maia', 'Matosinhos',\n",
       "       'Paredes', 'Porto', 'Póvoa de Varzim', 'Santo Tirso', 'Trofa',\n",
       "       'Valongo', 'Vila do Conde', 'Vila Nova de Gaia', 'Arouca',\n",
       "       'São João da Madeira', 'Vale de Cambra'], dtype=object)"
      ]
     },
     "execution_count": 9,
     "metadata": {},
     "output_type": "execute_result"
    }
   ],
   "source": [
    "up.County_of_Origin.unique()"
   ]
  },
  {
   "cell_type": "markdown",
   "id": "graphic-dominican",
   "metadata": {},
   "source": [
    " - We have single values for each combination of Period, County, Gender and Age"
   ]
  },
  {
   "cell_type": "code",
   "execution_count": 10,
   "id": "empty-vinyl",
   "metadata": {
    "tags": []
   },
   "outputs": [],
   "source": [
    "profiles_gb = up.groupby(['County_of_Origin','GenderDescription', 'AgeClassDescription']).size().to_frame()"
   ]
  },
  {
   "cell_type": "code",
   "execution_count": 11,
   "id": "northern-scotland",
   "metadata": {},
   "outputs": [],
   "source": [
    "single_period = profiles_gb[profiles_gb.values==1].reset_index()"
   ]
  },
  {
   "cell_type": "markdown",
   "id": "stuffed-stroke",
   "metadata": {},
   "source": [
    "## Find Variation Whenever Possible"
   ]
  },
  {
   "cell_type": "code",
   "execution_count": 12,
   "id": "demanding-rebel",
   "metadata": {},
   "outputs": [],
   "source": [
    "two_periods = up.merge(single_period, how='outer', indicator=True).query('_merge != \"both\"').drop(['_merge', 0], 1)"
   ]
  },
  {
   "cell_type": "code",
   "execution_count": 13,
   "id": "hairy-central",
   "metadata": {},
   "outputs": [
    {
     "data": {
      "text/plain": [
       "Period\n",
       "Sep-19 to Feb-20    239\n",
       "Sep-20 to Jan-21    239\n",
       "dtype: int64"
      ]
     },
     "execution_count": 13,
     "metadata": {},
     "output_type": "execute_result"
    }
   ],
   "source": [
    "two_periods.groupby(['Period']).size()"
   ]
  },
  {
   "cell_type": "code",
   "execution_count": 14,
   "id": "internal-union",
   "metadata": {},
   "outputs": [],
   "source": [
    "df_first = two_periods[two_periods.Period == 'Sep-19 to Feb-20'].drop('Period', axis=1).rename(columns={'Average_BusUsers_per_Day': 'Average_BusUsers_per_Day_first'})\n",
    "df_second = two_periods[two_periods.Period == 'Sep-20 to Jan-21'].drop('Period', axis=1).rename(columns={'Average_BusUsers_per_Day': 'Average_BusUsers_per_Day_second'})"
   ]
  },
  {
   "cell_type": "code",
   "execution_count": 15,
   "id": "visible-advertiser",
   "metadata": {},
   "outputs": [],
   "source": [
    "both_averages = df_first.merge(df_second, how='outer', indicator=True).drop('_merge', 1)"
   ]
  },
  {
   "cell_type": "code",
   "execution_count": 16,
   "id": "divided-designer",
   "metadata": {},
   "outputs": [],
   "source": [
    "change_df = both_averages\n",
    "change_df['Change'] = change_df.Average_BusUsers_per_Day_first - change_df.Average_BusUsers_per_Day_second\n",
    "change_df = change_df.drop(['Average_BusUsers_per_Day_first', 'Average_BusUsers_per_Day_second'], 1)"
   ]
  },
  {
   "cell_type": "code",
   "execution_count": 17,
   "id": "smart-sector",
   "metadata": {},
   "outputs": [],
   "source": [
    "change_df =change_df.sort_values('Change', ascending=False)"
   ]
  },
  {
   "cell_type": "markdown",
   "id": "olympic-class",
   "metadata": {},
   "source": [
    "# Insights from Change table"
   ]
  },
  {
   "cell_type": "code",
   "execution_count": 18,
   "id": "maritime-reality",
   "metadata": {},
   "outputs": [
    {
     "data": {
      "text/html": [
       "<div>\n",
       "<style scoped>\n",
       "    .dataframe tbody tr th:only-of-type {\n",
       "        vertical-align: middle;\n",
       "    }\n",
       "\n",
       "    .dataframe tbody tr th {\n",
       "        vertical-align: top;\n",
       "    }\n",
       "\n",
       "    .dataframe thead th {\n",
       "        text-align: right;\n",
       "    }\n",
       "</style>\n",
       "<table border=\"1\" class=\"dataframe\">\n",
       "  <thead>\n",
       "    <tr style=\"text-align: right;\">\n",
       "      <th></th>\n",
       "      <th>Change</th>\n",
       "    </tr>\n",
       "    <tr>\n",
       "      <th>Region_of_Origin</th>\n",
       "      <th></th>\n",
       "    </tr>\n",
       "  </thead>\n",
       "  <tbody>\n",
       "    <tr>\n",
       "      <th>R2 - AM Porto</th>\n",
       "      <td>1367.856185</td>\n",
       "    </tr>\n",
       "    <tr>\n",
       "      <th>R1 - AM Lisboa</th>\n",
       "      <td>331.812747</td>\n",
       "    </tr>\n",
       "  </tbody>\n",
       "</table>\n",
       "</div>"
      ],
      "text/plain": [
       "                       Change\n",
       "Region_of_Origin             \n",
       "R2 - AM Porto     1367.856185\n",
       "R1 - AM Lisboa     331.812747"
      ]
     },
     "metadata": {},
     "output_type": "display_data"
    },
    {
     "data": {
      "text/html": [
       "<div>\n",
       "<style scoped>\n",
       "    .dataframe tbody tr th:only-of-type {\n",
       "        vertical-align: middle;\n",
       "    }\n",
       "\n",
       "    .dataframe tbody tr th {\n",
       "        vertical-align: top;\n",
       "    }\n",
       "\n",
       "    .dataframe thead th {\n",
       "        text-align: right;\n",
       "    }\n",
       "</style>\n",
       "<table border=\"1\" class=\"dataframe\">\n",
       "  <thead>\n",
       "    <tr style=\"text-align: right;\">\n",
       "      <th></th>\n",
       "      <th>Change</th>\n",
       "    </tr>\n",
       "    <tr>\n",
       "      <th>District_of_Origin</th>\n",
       "      <th></th>\n",
       "    </tr>\n",
       "  </thead>\n",
       "  <tbody>\n",
       "    <tr>\n",
       "      <th>Porto</th>\n",
       "      <td>1580.489648</td>\n",
       "    </tr>\n",
       "    <tr>\n",
       "      <th>Lisboa</th>\n",
       "      <td>434.074012</td>\n",
       "    </tr>\n",
       "    <tr>\n",
       "      <th>Aveiro</th>\n",
       "      <td>222.906770</td>\n",
       "    </tr>\n",
       "    <tr>\n",
       "      <th>Setúbal</th>\n",
       "      <td>168.194724</td>\n",
       "    </tr>\n",
       "  </tbody>\n",
       "</table>\n",
       "</div>"
      ],
      "text/plain": [
       "                         Change\n",
       "District_of_Origin             \n",
       "Porto               1580.489648\n",
       "Lisboa               434.074012\n",
       "Aveiro               222.906770\n",
       "Setúbal              168.194724"
      ]
     },
     "metadata": {},
     "output_type": "display_data"
    },
    {
     "data": {
      "text/html": [
       "<div>\n",
       "<style scoped>\n",
       "    .dataframe tbody tr th:only-of-type {\n",
       "        vertical-align: middle;\n",
       "    }\n",
       "\n",
       "    .dataframe tbody tr th {\n",
       "        vertical-align: top;\n",
       "    }\n",
       "\n",
       "    .dataframe thead th {\n",
       "        text-align: right;\n",
       "    }\n",
       "</style>\n",
       "<table border=\"1\" class=\"dataframe\">\n",
       "  <thead>\n",
       "    <tr style=\"text-align: right;\">\n",
       "      <th></th>\n",
       "      <th>Change</th>\n",
       "    </tr>\n",
       "    <tr>\n",
       "      <th>County_of_Origin</th>\n",
       "      <th></th>\n",
       "    </tr>\n",
       "  </thead>\n",
       "  <tbody>\n",
       "    <tr>\n",
       "      <th>Gondomar</th>\n",
       "      <td>3655.146825</td>\n",
       "    </tr>\n",
       "    <tr>\n",
       "      <th>Maia</th>\n",
       "      <td>2776.060462</td>\n",
       "    </tr>\n",
       "    <tr>\n",
       "      <th>Porto</th>\n",
       "      <td>2189.972712</td>\n",
       "    </tr>\n",
       "    <tr>\n",
       "      <th>Matosinhos</th>\n",
       "      <td>861.287204</td>\n",
       "    </tr>\n",
       "    <tr>\n",
       "      <th>Lisboa</th>\n",
       "      <td>843.418032</td>\n",
       "    </tr>\n",
       "    <tr>\n",
       "      <th>Oliveira de Azeméis</th>\n",
       "      <td>726.730692</td>\n",
       "    </tr>\n",
       "    <tr>\n",
       "      <th>Vila Nova de Gaia</th>\n",
       "      <td>705.161995</td>\n",
       "    </tr>\n",
       "    <tr>\n",
       "      <th>Odivelas</th>\n",
       "      <td>656.785136</td>\n",
       "    </tr>\n",
       "    <tr>\n",
       "      <th>Cascais</th>\n",
       "      <td>580.510053</td>\n",
       "    </tr>\n",
       "    <tr>\n",
       "      <th>Oeiras</th>\n",
       "      <td>441.192978</td>\n",
       "    </tr>\n",
       "    <tr>\n",
       "      <th>Vila Franca de Xira</th>\n",
       "      <td>440.545794</td>\n",
       "    </tr>\n",
       "    <tr>\n",
       "      <th>Barreiro</th>\n",
       "      <td>413.707994</td>\n",
       "    </tr>\n",
       "    <tr>\n",
       "      <th>Palmela</th>\n",
       "      <td>308.658963</td>\n",
       "    </tr>\n",
       "    <tr>\n",
       "      <th>Setúbal</th>\n",
       "      <td>305.964793</td>\n",
       "    </tr>\n",
       "    <tr>\n",
       "      <th>Sintra</th>\n",
       "      <td>251.003956</td>\n",
       "    </tr>\n",
       "    <tr>\n",
       "      <th>Mafra</th>\n",
       "      <td>245.407230</td>\n",
       "    </tr>\n",
       "    <tr>\n",
       "      <th>Loures</th>\n",
       "      <td>236.925522</td>\n",
       "    </tr>\n",
       "    <tr>\n",
       "      <th>Moita</th>\n",
       "      <td>203.723974</td>\n",
       "    </tr>\n",
       "    <tr>\n",
       "      <th>Póvoa de Varzim</th>\n",
       "      <td>182.042506</td>\n",
       "    </tr>\n",
       "    <tr>\n",
       "      <th>Amadora</th>\n",
       "      <td>141.947411</td>\n",
       "    </tr>\n",
       "    <tr>\n",
       "      <th>Espinho</th>\n",
       "      <td>113.758664</td>\n",
       "    </tr>\n",
       "    <tr>\n",
       "      <th>Trofa</th>\n",
       "      <td>109.803874</td>\n",
       "    </tr>\n",
       "    <tr>\n",
       "      <th>Paredes</th>\n",
       "      <td>97.939647</td>\n",
       "    </tr>\n",
       "    <tr>\n",
       "      <th>Almada</th>\n",
       "      <td>96.479556</td>\n",
       "    </tr>\n",
       "    <tr>\n",
       "      <th>Vila do Conde</th>\n",
       "      <td>93.374395</td>\n",
       "    </tr>\n",
       "    <tr>\n",
       "      <th>Montijo</th>\n",
       "      <td>83.699584</td>\n",
       "    </tr>\n",
       "    <tr>\n",
       "      <th>Santa Maria da Feira</th>\n",
       "      <td>53.759992</td>\n",
       "    </tr>\n",
       "    <tr>\n",
       "      <th>Valongo</th>\n",
       "      <td>49.370176</td>\n",
       "    </tr>\n",
       "    <tr>\n",
       "      <th>Santo Tirso</th>\n",
       "      <td>13.143120</td>\n",
       "    </tr>\n",
       "    <tr>\n",
       "      <th>Seixal</th>\n",
       "      <td>-5.620081</td>\n",
       "    </tr>\n",
       "    <tr>\n",
       "      <th>Sesimbra</th>\n",
       "      <td>-7.158895</td>\n",
       "    </tr>\n",
       "    <tr>\n",
       "      <th>Alcochete</th>\n",
       "      <td>-9.288660</td>\n",
       "    </tr>\n",
       "  </tbody>\n",
       "</table>\n",
       "</div>"
      ],
      "text/plain": [
       "                           Change\n",
       "County_of_Origin                 \n",
       "Gondomar              3655.146825\n",
       "Maia                  2776.060462\n",
       "Porto                 2189.972712\n",
       "Matosinhos             861.287204\n",
       "Lisboa                 843.418032\n",
       "Oliveira de Azeméis    726.730692\n",
       "Vila Nova de Gaia      705.161995\n",
       "Odivelas               656.785136\n",
       "Cascais                580.510053\n",
       "Oeiras                 441.192978\n",
       "Vila Franca de Xira    440.545794\n",
       "Barreiro               413.707994\n",
       "Palmela                308.658963\n",
       "Setúbal                305.964793\n",
       "Sintra                 251.003956\n",
       "Mafra                  245.407230\n",
       "Loures                 236.925522\n",
       "Moita                  203.723974\n",
       "Póvoa de Varzim        182.042506\n",
       "Amadora                141.947411\n",
       "Espinho                113.758664\n",
       "Trofa                  109.803874\n",
       "Paredes                 97.939647\n",
       "Almada                  96.479556\n",
       "Vila do Conde           93.374395\n",
       "Montijo                 83.699584\n",
       "Santa Maria da Feira    53.759992\n",
       "Valongo                 49.370176\n",
       "Santo Tirso             13.143120\n",
       "Seixal                  -5.620081\n",
       "Sesimbra                -7.158895\n",
       "Alcochete               -9.288660"
      ]
     },
     "metadata": {},
     "output_type": "display_data"
    },
    {
     "data": {
      "text/html": [
       "<div>\n",
       "<style scoped>\n",
       "    .dataframe tbody tr th:only-of-type {\n",
       "        vertical-align: middle;\n",
       "    }\n",
       "\n",
       "    .dataframe tbody tr th {\n",
       "        vertical-align: top;\n",
       "    }\n",
       "\n",
       "    .dataframe thead th {\n",
       "        text-align: right;\n",
       "    }\n",
       "</style>\n",
       "<table border=\"1\" class=\"dataframe\">\n",
       "  <thead>\n",
       "    <tr style=\"text-align: right;\">\n",
       "      <th></th>\n",
       "      <th>Change</th>\n",
       "    </tr>\n",
       "    <tr>\n",
       "      <th>GenderDescription</th>\n",
       "      <th></th>\n",
       "    </tr>\n",
       "  </thead>\n",
       "  <tbody>\n",
       "    <tr>\n",
       "      <th>Male</th>\n",
       "      <td>702.848084</td>\n",
       "    </tr>\n",
       "    <tr>\n",
       "      <th>Female</th>\n",
       "      <td>680.833001</td>\n",
       "    </tr>\n",
       "  </tbody>\n",
       "</table>\n",
       "</div>"
      ],
      "text/plain": [
       "                       Change\n",
       "GenderDescription            \n",
       "Male               702.848084\n",
       "Female             680.833001"
      ]
     },
     "metadata": {},
     "output_type": "display_data"
    },
    {
     "data": {
      "text/html": [
       "<div>\n",
       "<style scoped>\n",
       "    .dataframe tbody tr th:only-of-type {\n",
       "        vertical-align: middle;\n",
       "    }\n",
       "\n",
       "    .dataframe tbody tr th {\n",
       "        vertical-align: top;\n",
       "    }\n",
       "\n",
       "    .dataframe thead th {\n",
       "        text-align: right;\n",
       "    }\n",
       "</style>\n",
       "<table border=\"1\" class=\"dataframe\">\n",
       "  <thead>\n",
       "    <tr style=\"text-align: right;\">\n",
       "      <th></th>\n",
       "      <th>Change</th>\n",
       "    </tr>\n",
       "    <tr>\n",
       "      <th>AgeClassDescription</th>\n",
       "      <th></th>\n",
       "    </tr>\n",
       "  </thead>\n",
       "  <tbody>\n",
       "    <tr>\n",
       "      <th>65+</th>\n",
       "      <td>3521.857010</td>\n",
       "    </tr>\n",
       "    <tr>\n",
       "      <th>15-24</th>\n",
       "      <td>548.103674</td>\n",
       "    </tr>\n",
       "    <tr>\n",
       "      <th>55-64</th>\n",
       "      <td>534.336945</td>\n",
       "    </tr>\n",
       "    <tr>\n",
       "      <th>25-34</th>\n",
       "      <td>400.486989</td>\n",
       "    </tr>\n",
       "    <tr>\n",
       "      <th>45-54</th>\n",
       "      <td>380.801390</td>\n",
       "    </tr>\n",
       "    <tr>\n",
       "      <th>35-44</th>\n",
       "      <td>165.373038</td>\n",
       "    </tr>\n",
       "  </tbody>\n",
       "</table>\n",
       "</div>"
      ],
      "text/plain": [
       "                          Change\n",
       "AgeClassDescription             \n",
       "65+                  3521.857010\n",
       "15-24                 548.103674\n",
       "55-64                 534.336945\n",
       "25-34                 400.486989\n",
       "45-54                 380.801390\n",
       "35-44                 165.373038"
      ]
     },
     "metadata": {},
     "output_type": "display_data"
    }
   ],
   "source": [
    "for col in change_df.columns.drop('Change'):\n",
    "    display(change_df.groupby(col)['Change'].mean().to_frame().sort_values('Change', ascending=False))"
   ]
  },
  {
   "cell_type": "markdown",
   "id": "conventional-journalism",
   "metadata": {},
   "source": [
    "# Analyzing Demand Table"
   ]
  },
  {
   "cell_type": "code",
   "execution_count": 19,
   "id": "particular-witness",
   "metadata": {},
   "outputs": [
    {
     "data": {
      "text/html": [
       "<div>\n",
       "<style scoped>\n",
       "    .dataframe tbody tr th:only-of-type {\n",
       "        vertical-align: middle;\n",
       "    }\n",
       "\n",
       "    .dataframe tbody tr th {\n",
       "        vertical-align: top;\n",
       "    }\n",
       "\n",
       "    .dataframe thead th {\n",
       "        text-align: right;\n",
       "    }\n",
       "</style>\n",
       "<table border=\"1\" class=\"dataframe\">\n",
       "  <thead>\n",
       "    <tr style=\"text-align: right;\">\n",
       "      <th></th>\n",
       "      <th>Region_of_Origin</th>\n",
       "      <th>District_of_Origin</th>\n",
       "      <th>County_of_Origin</th>\n",
       "      <th>Region_of_Public_Transportation</th>\n",
       "      <th>District_of_Public_Transportation</th>\n",
       "      <th>County_of_Public_Transportation</th>\n",
       "      <th>Dicofre_ParishCode_of_Public_Transportation</th>\n",
       "      <th>Demand_weight</th>\n",
       "    </tr>\n",
       "  </thead>\n",
       "  <tbody>\n",
       "    <tr>\n",
       "      <th>0</th>\n",
       "      <td>R1 - AM Lisboa</td>\n",
       "      <td>Lisboa</td>\n",
       "      <td>Amadora</td>\n",
       "      <td>R1 - AM Lisboa</td>\n",
       "      <td>LISBOA</td>\n",
       "      <td>LISBOA</td>\n",
       "      <td>110608</td>\n",
       "      <td>0.307323</td>\n",
       "    </tr>\n",
       "    <tr>\n",
       "      <th>1</th>\n",
       "      <td>R1 - AM Lisboa</td>\n",
       "      <td>Lisboa</td>\n",
       "      <td>Amadora</td>\n",
       "      <td>R1 - AM Lisboa</td>\n",
       "      <td>LISBOA</td>\n",
       "      <td>LISBOA</td>\n",
       "      <td>110639</td>\n",
       "      <td>0.069997</td>\n",
       "    </tr>\n",
       "  </tbody>\n",
       "</table>\n",
       "</div>"
      ],
      "text/plain": [
       "  Region_of_Origin District_of_Origin County_of_Origin  \\\n",
       "0   R1 - AM Lisboa             Lisboa          Amadora   \n",
       "1   R1 - AM Lisboa             Lisboa          Amadora   \n",
       "\n",
       "  Region_of_Public_Transportation District_of_Public_Transportation  \\\n",
       "0                  R1 - AM Lisboa                            LISBOA   \n",
       "1                  R1 - AM Lisboa                            LISBOA   \n",
       "\n",
       "  County_of_Public_Transportation Dicofre_ParishCode_of_Public_Transportation  \\\n",
       "0                          LISBOA                                      110608   \n",
       "1                          LISBOA                                      110639   \n",
       "\n",
       "   Demand_weight  \n",
       "0       0.307323  \n",
       "1       0.069997  "
      ]
     },
     "execution_count": 19,
     "metadata": {},
     "output_type": "execute_result"
    }
   ],
   "source": [
    "od.head(2)"
   ]
  },
  {
   "cell_type": "code",
   "execution_count": 20,
   "id": "amber-pledge",
   "metadata": {},
   "outputs": [],
   "source": [
    "asa = fiona.open(\"/home/primity/terras/gadm36_PRT_shp/gadm36_PRT_3.shp\")"
   ]
  },
  {
   "cell_type": "code",
   "execution_count": 21,
   "id": "adult-porter",
   "metadata": {},
   "outputs": [],
   "source": [
    "freguesias = pd.read_excel('https://dados.gov.pt/pt/datasets/r/ec6ef805-c278-4b4d-ba9b-3116264f68b4', engine=\"openpyxl\")[['dicofre', 'freguesia']]"
   ]
  },
  {
   "cell_type": "code",
   "execution_count": 43,
   "id": "graduate-management",
   "metadata": {},
   "outputs": [],
   "source": [
    "od_freguesia = pd.merge(od, freguesias,\n",
    "                    how='outer',left_on=['Dicofre_ParishCode_of_Public_Transportation'],\n",
    "                    right_on=['dicofre']).dropna().drop(['dicofre', 'Dicofre_ParishCode_of_Public_Transportation'],1)"
   ]
  },
  {
   "cell_type": "code",
   "execution_count": 44,
   "id": "moderate-mainland",
   "metadata": {},
   "outputs": [
    {
     "data": {
      "text/html": [
       "<div>\n",
       "<style scoped>\n",
       "    .dataframe tbody tr th:only-of-type {\n",
       "        vertical-align: middle;\n",
       "    }\n",
       "\n",
       "    .dataframe tbody tr th {\n",
       "        vertical-align: top;\n",
       "    }\n",
       "\n",
       "    .dataframe thead th {\n",
       "        text-align: right;\n",
       "    }\n",
       "</style>\n",
       "<table border=\"1\" class=\"dataframe\">\n",
       "  <thead>\n",
       "    <tr style=\"text-align: right;\">\n",
       "      <th></th>\n",
       "      <th>Region_of_Origin</th>\n",
       "      <th>District_of_Origin</th>\n",
       "      <th>County_of_Origin</th>\n",
       "      <th>Region_of_Public_Transportation</th>\n",
       "      <th>District_of_Public_Transportation</th>\n",
       "      <th>County_of_Public_Transportation</th>\n",
       "      <th>Demand_weight</th>\n",
       "      <th>freguesia</th>\n",
       "    </tr>\n",
       "  </thead>\n",
       "  <tbody>\n",
       "    <tr>\n",
       "      <th>0</th>\n",
       "      <td>R1 - AM Lisboa</td>\n",
       "      <td>Lisboa</td>\n",
       "      <td>Amadora</td>\n",
       "      <td>R1 - AM Lisboa</td>\n",
       "      <td>LISBOA</td>\n",
       "      <td>LISBOA</td>\n",
       "      <td>0.307323</td>\n",
       "      <td>Benfica</td>\n",
       "    </tr>\n",
       "    <tr>\n",
       "      <th>1</th>\n",
       "      <td>R1 - AM Lisboa</td>\n",
       "      <td>Lisboa</td>\n",
       "      <td>Cascais</td>\n",
       "      <td>R1 - AM Lisboa</td>\n",
       "      <td>LISBOA</td>\n",
       "      <td>LISBOA</td>\n",
       "      <td>0.068546</td>\n",
       "      <td>Benfica</td>\n",
       "    </tr>\n",
       "  </tbody>\n",
       "</table>\n",
       "</div>"
      ],
      "text/plain": [
       "  Region_of_Origin District_of_Origin County_of_Origin  \\\n",
       "0   R1 - AM Lisboa             Lisboa          Amadora   \n",
       "1   R1 - AM Lisboa             Lisboa          Cascais   \n",
       "\n",
       "  Region_of_Public_Transportation District_of_Public_Transportation  \\\n",
       "0                  R1 - AM Lisboa                            LISBOA   \n",
       "1                  R1 - AM Lisboa                            LISBOA   \n",
       "\n",
       "  County_of_Public_Transportation  Demand_weight freguesia  \n",
       "0                          LISBOA       0.307323   Benfica  \n",
       "1                          LISBOA       0.068546   Benfica  "
      ]
     },
     "execution_count": 44,
     "metadata": {},
     "output_type": "execute_result"
    }
   ],
   "source": [
    "od_freguesia.head(2)"
   ]
  },
  {
   "cell_type": "code",
   "execution_count": 29,
   "id": "taken-volunteer",
   "metadata": {},
   "outputs": [],
   "source": [
    "freguesias_shapes = fiona.open(\"/home/primity/terras/gadm36_PRT_shp/gadm36_PRT_3.shp\")\n",
    "\n",
    "freguesias_dict = {}\n",
    "for shp in freguesias_shapes:\n",
    "    freguesias_dict[shp['properties']['NAME_3']] = shp['geometry']['coordinates'][0] \n",
    "\n",
    "freguesias_plot = {}\n",
    "for key, value in freguesias_dict.items():\n",
    "    freguesias_plot[key] = [[point[0] for point in value], [point[1] for point in value] ]"
   ]
  },
  {
   "cell_type": "code",
   "execution_count": 30,
   "id": "transparent-plaza",
   "metadata": {},
   "outputs": [],
   "source": [
    "def plot_freguesias(freguesias_plot, xlim, ylim):\n",
    "    plt.figure(figsize=(5,10))\n",
    "    plt.xlim(xlim)\n",
    "    plt.ylim(ylim)\n",
    "    for name, fr in freguesias_plot.items():\n",
    "        if name in Both_DFs.freguesia.unique():\n",
    "            c = 'red'\n",
    "            lw=1\n",
    "        else:\n",
    "            c = 'blue'\n",
    "            lw=0.2\n",
    "        plt.plot(fr[0], fr[1], color=c , linewidth=lw)\n",
    "    plt.show()"
   ]
  },
  {
   "cell_type": "code",
   "execution_count": 31,
   "id": "supposed-seventh",
   "metadata": {},
   "outputs": [
    {
     "data": {
      "image/png": "[encoded data removed]",
      "text/plain": [
       "<Figure size 360x720 with 1 Axes>"
      ]
     },
     "metadata": {
      "needs_background": "light"
     },
     "output_type": "display_data"
    }
   ],
   "source": [
    "plot_freguesias(freguesias_plot, (-9.6, -6), (36.7, 42.2))"
   ]
  },
  {
   "cell_type": "code",
   "execution_count": 48,
   "id": "respective-occasions",
   "metadata": {},
   "outputs": [
    {
     "data": {
      "text/html": [
       "<div>\n",
       "<style scoped>\n",
       "    .dataframe tbody tr th:only-of-type {\n",
       "        vertical-align: middle;\n",
       "    }\n",
       "\n",
       "    .dataframe tbody tr th {\n",
       "        vertical-align: top;\n",
       "    }\n",
       "\n",
       "    .dataframe thead th {\n",
       "        text-align: right;\n",
       "    }\n",
       "</style>\n",
       "<table border=\"1\" class=\"dataframe\">\n",
       "  <thead>\n",
       "    <tr style=\"text-align: right;\">\n",
       "      <th></th>\n",
       "      <th>Demand_weight</th>\n",
       "    </tr>\n",
       "    <tr>\n",
       "      <th>County_of_Origin</th>\n",
       "      <th></th>\n",
       "    </tr>\n",
       "  </thead>\n",
       "  <tbody>\n",
       "    <tr>\n",
       "      <th>Gondomar</th>\n",
       "      <td>1.000001</td>\n",
       "    </tr>\n",
       "    <tr>\n",
       "      <th>Paredes</th>\n",
       "      <td>1.000002</td>\n",
       "    </tr>\n",
       "    <tr>\n",
       "      <th>Setúbal</th>\n",
       "      <td>1.000002</td>\n",
       "    </tr>\n",
       "    <tr>\n",
       "      <th>Amadora</th>\n",
       "      <td>1.000006</td>\n",
       "    </tr>\n",
       "    <tr>\n",
       "      <th>Santa Maria da Feira</th>\n",
       "      <td>1.000000</td>\n",
       "    </tr>\n",
       "  </tbody>\n",
       "</table>\n",
       "</div>"
      ],
      "text/plain": [
       "                      Demand_weight\n",
       "County_of_Origin                   \n",
       "Gondomar                   1.000001\n",
       "Paredes                    1.000002\n",
       "Setúbal                    1.000002\n",
       "Amadora                    1.000006\n",
       "Santa Maria da Feira       1.000000"
      ]
     },
     "execution_count": 48,
     "metadata": {},
     "output_type": "execute_result"
    }
   ],
   "source": [
    "# Demands sum to a value very close to 1 on the county level\n",
    "od_freguesia.groupby(['County_of_Origin'])['Demand_weight'].sum().to_frame().sort_values('Demand_weight', ascending=False).sample(5)"
   ]
  },
  {
   "cell_type": "markdown",
   "id": "forty-concert",
   "metadata": {},
   "source": [
    "# Joining Both Tables"
   ]
  },
  {
   "cell_type": "code",
   "execution_count": 51,
   "id": "copyrighted-stations",
   "metadata": {},
   "outputs": [
    {
     "data": {
      "text/html": [
       "<div>\n",
       "<style scoped>\n",
       "    .dataframe tbody tr th:only-of-type {\n",
       "        vertical-align: middle;\n",
       "    }\n",
       "\n",
       "    .dataframe tbody tr th {\n",
       "        vertical-align: top;\n",
       "    }\n",
       "\n",
       "    .dataframe thead th {\n",
       "        text-align: right;\n",
       "    }\n",
       "</style>\n",
       "<table border=\"1\" class=\"dataframe\">\n",
       "  <thead>\n",
       "    <tr style=\"text-align: right;\">\n",
       "      <th></th>\n",
       "      <th>Region_of_Origin</th>\n",
       "      <th>District_of_Origin</th>\n",
       "      <th>County_of_Origin</th>\n",
       "      <th>Region_of_Public_Transportation</th>\n",
       "      <th>District_of_Public_Transportation</th>\n",
       "      <th>County_of_Public_Transportation</th>\n",
       "      <th>Demand_weight</th>\n",
       "      <th>freguesia</th>\n",
       "    </tr>\n",
       "  </thead>\n",
       "  <tbody>\n",
       "    <tr>\n",
       "      <th>0</th>\n",
       "      <td>R1 - AM Lisboa</td>\n",
       "      <td>Lisboa</td>\n",
       "      <td>Amadora</td>\n",
       "      <td>R1 - AM Lisboa</td>\n",
       "      <td>LISBOA</td>\n",
       "      <td>LISBOA</td>\n",
       "      <td>0.307323</td>\n",
       "      <td>Benfica</td>\n",
       "    </tr>\n",
       "  </tbody>\n",
       "</table>\n",
       "</div>"
      ],
      "text/plain": [
       "  Region_of_Origin District_of_Origin County_of_Origin  \\\n",
       "0   R1 - AM Lisboa             Lisboa          Amadora   \n",
       "\n",
       "  Region_of_Public_Transportation District_of_Public_Transportation  \\\n",
       "0                  R1 - AM Lisboa                            LISBOA   \n",
       "\n",
       "  County_of_Public_Transportation  Demand_weight freguesia  \n",
       "0                          LISBOA       0.307323   Benfica  "
      ]
     },
     "metadata": {},
     "output_type": "display_data"
    },
    {
     "data": {
      "text/html": [
       "<div>\n",
       "<style scoped>\n",
       "    .dataframe tbody tr th:only-of-type {\n",
       "        vertical-align: middle;\n",
       "    }\n",
       "\n",
       "    .dataframe tbody tr th {\n",
       "        vertical-align: top;\n",
       "    }\n",
       "\n",
       "    .dataframe thead th {\n",
       "        text-align: right;\n",
       "    }\n",
       "</style>\n",
       "<table border=\"1\" class=\"dataframe\">\n",
       "  <thead>\n",
       "    <tr style=\"text-align: right;\">\n",
       "      <th></th>\n",
       "      <th>Region_of_Origin</th>\n",
       "      <th>District_of_Origin</th>\n",
       "      <th>County_of_Origin</th>\n",
       "      <th>GenderDescription</th>\n",
       "      <th>AgeClassDescription</th>\n",
       "      <th>Change</th>\n",
       "    </tr>\n",
       "  </thead>\n",
       "  <tbody>\n",
       "    <tr>\n",
       "      <th>173</th>\n",
       "      <td>R2 - AM Porto</td>\n",
       "      <td>Porto</td>\n",
       "      <td>Gondomar</td>\n",
       "      <td>Female</td>\n",
       "      <td>65+</td>\n",
       "      <td>32475.790502</td>\n",
       "    </tr>\n",
       "  </tbody>\n",
       "</table>\n",
       "</div>"
      ],
      "text/plain": [
       "    Region_of_Origin District_of_Origin County_of_Origin GenderDescription  \\\n",
       "173    R2 - AM Porto              Porto         Gondomar            Female   \n",
       "\n",
       "    AgeClassDescription        Change  \n",
       "173                 65+  32475.790502  "
      ]
     },
     "metadata": {},
     "output_type": "display_data"
    }
   ],
   "source": [
    "display(od_freguesia.head(1))\n",
    "display(change_df.head(1))"
   ]
  },
  {
   "cell_type": "code",
   "execution_count": 56,
   "id": "damaged-melissa",
   "metadata": {},
   "outputs": [],
   "source": [
    "es_demands = pd.merge(od_freguesia, change_df,\n",
    "                    on=['County_of_Origin']).drop(['Region_of_Origin_x', 'District_of_Origin_x'], 1)"
   ]
  },
  {
   "cell_type": "code",
   "execution_count": 58,
   "id": "bridal-daily",
   "metadata": {},
   "outputs": [],
   "source": [
    "es_demands['Demand_change'] = es_demands.Demand_weight * es_demands.Change"
   ]
  },
  {
   "cell_type": "code",
   "execution_count": 61,
   "id": "varying-cedar",
   "metadata": {},
   "outputs": [
    {
     "data": {
      "text/html": [
       "<div>\n",
       "<style scoped>\n",
       "    .dataframe tbody tr th:only-of-type {\n",
       "        vertical-align: middle;\n",
       "    }\n",
       "\n",
       "    .dataframe tbody tr th {\n",
       "        vertical-align: top;\n",
       "    }\n",
       "\n",
       "    .dataframe thead th {\n",
       "        text-align: right;\n",
       "    }\n",
       "</style>\n",
       "<table border=\"1\" class=\"dataframe\">\n",
       "  <thead>\n",
       "    <tr style=\"text-align: right;\">\n",
       "      <th></th>\n",
       "      <th>County_of_Origin</th>\n",
       "      <th>Region_of_Public_Transportation</th>\n",
       "      <th>District_of_Public_Transportation</th>\n",
       "      <th>County_of_Public_Transportation</th>\n",
       "      <th>Demand_weight</th>\n",
       "      <th>freguesia</th>\n",
       "      <th>Region_of_Origin_y</th>\n",
       "      <th>District_of_Origin_y</th>\n",
       "      <th>GenderDescription</th>\n",
       "      <th>AgeClassDescription</th>\n",
       "      <th>Change</th>\n",
       "      <th>Demand_change</th>\n",
       "    </tr>\n",
       "  </thead>\n",
       "  <tbody>\n",
       "    <tr>\n",
       "      <th>13836</th>\n",
       "      <td>Maia</td>\n",
       "      <td>R2 - AM Porto</td>\n",
       "      <td>PORTO</td>\n",
       "      <td>PORTO</td>\n",
       "      <td>0.380782</td>\n",
       "      <td>União das freguesias de Cedofeita, Santo Ildef...</td>\n",
       "      <td>R2 - AM Porto</td>\n",
       "      <td>Porto</td>\n",
       "      <td>Male</td>\n",
       "      <td>65+</td>\n",
       "      <td>30134.699342</td>\n",
       "      <td>11474.751085</td>\n",
       "    </tr>\n",
       "    <tr>\n",
       "      <th>13088</th>\n",
       "      <td>Gondomar</td>\n",
       "      <td>R2 - AM Porto</td>\n",
       "      <td>PORTO</td>\n",
       "      <td>PORTO</td>\n",
       "      <td>0.295123</td>\n",
       "      <td>Campanhã</td>\n",
       "      <td>R2 - AM Porto</td>\n",
       "      <td>Porto</td>\n",
       "      <td>Female</td>\n",
       "      <td>65+</td>\n",
       "      <td>32475.790502</td>\n",
       "      <td>9584.352720</td>\n",
       "    </tr>\n",
       "    <tr>\n",
       "      <th>13187</th>\n",
       "      <td>Gondomar</td>\n",
       "      <td>R2 - AM Porto</td>\n",
       "      <td>PORTO</td>\n",
       "      <td>GONDOMAR</td>\n",
       "      <td>0.191129</td>\n",
       "      <td>Rio Tinto</td>\n",
       "      <td>R2 - AM Porto</td>\n",
       "      <td>Porto</td>\n",
       "      <td>Female</td>\n",
       "      <td>65+</td>\n",
       "      <td>32475.790502</td>\n",
       "      <td>6207.065363</td>\n",
       "    </tr>\n",
       "    <tr>\n",
       "      <th>12868</th>\n",
       "      <td>Gondomar</td>\n",
       "      <td>R2 - AM Porto</td>\n",
       "      <td>PORTO</td>\n",
       "      <td>PORTO</td>\n",
       "      <td>0.172608</td>\n",
       "      <td>União das freguesias de Cedofeita, Santo Ildef...</td>\n",
       "      <td>R2 - AM Porto</td>\n",
       "      <td>Porto</td>\n",
       "      <td>Female</td>\n",
       "      <td>65+</td>\n",
       "      <td>32475.790502</td>\n",
       "      <td>5605.581247</td>\n",
       "    </tr>\n",
       "    <tr>\n",
       "      <th>13946</th>\n",
       "      <td>Maia</td>\n",
       "      <td>R2 - AM Porto</td>\n",
       "      <td>PORTO</td>\n",
       "      <td>PORTO</td>\n",
       "      <td>0.159660</td>\n",
       "      <td>Paranhos</td>\n",
       "      <td>R2 - AM Porto</td>\n",
       "      <td>Porto</td>\n",
       "      <td>Male</td>\n",
       "      <td>65+</td>\n",
       "      <td>30134.699342</td>\n",
       "      <td>4811.306097</td>\n",
       "    </tr>\n",
       "    <tr>\n",
       "      <th>13990</th>\n",
       "      <td>Maia</td>\n",
       "      <td>R2 - AM Porto</td>\n",
       "      <td>PORTO</td>\n",
       "      <td>MATOSINHOS</td>\n",
       "      <td>0.128280</td>\n",
       "      <td>União das freguesias de Custóias, Leça do Bali...</td>\n",
       "      <td>R2 - AM Porto</td>\n",
       "      <td>Porto</td>\n",
       "      <td>Male</td>\n",
       "      <td>65+</td>\n",
       "      <td>30134.699342</td>\n",
       "      <td>3865.679232</td>\n",
       "    </tr>\n",
       "    <tr>\n",
       "      <th>15682</th>\n",
       "      <td>Porto</td>\n",
       "      <td>R2 - AM Porto</td>\n",
       "      <td>PORTO</td>\n",
       "      <td>PORTO</td>\n",
       "      <td>0.365206</td>\n",
       "      <td>União das freguesias de Cedofeita, Santo Ildef...</td>\n",
       "      <td>R2 - AM Porto</td>\n",
       "      <td>Porto</td>\n",
       "      <td>Male</td>\n",
       "      <td>65+</td>\n",
       "      <td>6568.967914</td>\n",
       "      <td>2399.026496</td>\n",
       "    </tr>\n",
       "    <tr>\n",
       "      <th>12978</th>\n",
       "      <td>Gondomar</td>\n",
       "      <td>R2 - AM Porto</td>\n",
       "      <td>PORTO</td>\n",
       "      <td>PORTO</td>\n",
       "      <td>0.073846</td>\n",
       "      <td>Paranhos</td>\n",
       "      <td>R2 - AM Porto</td>\n",
       "      <td>Porto</td>\n",
       "      <td>Female</td>\n",
       "      <td>65+</td>\n",
       "      <td>32475.790502</td>\n",
       "      <td>2398.207225</td>\n",
       "    </tr>\n",
       "    <tr>\n",
       "      <th>14001</th>\n",
       "      <td>Maia</td>\n",
       "      <td>R2 - AM Porto</td>\n",
       "      <td>PORTO</td>\n",
       "      <td>PORTO</td>\n",
       "      <td>0.070124</td>\n",
       "      <td>Bonfim</td>\n",
       "      <td>R2 - AM Porto</td>\n",
       "      <td>Porto</td>\n",
       "      <td>Male</td>\n",
       "      <td>65+</td>\n",
       "      <td>30134.699342</td>\n",
       "      <td>2113.165657</td>\n",
       "    </tr>\n",
       "    <tr>\n",
       "      <th>13022</th>\n",
       "      <td>Gondomar</td>\n",
       "      <td>R2 - AM Porto</td>\n",
       "      <td>PORTO</td>\n",
       "      <td>PORTO</td>\n",
       "      <td>0.065012</td>\n",
       "      <td>Bonfim</td>\n",
       "      <td>R2 - AM Porto</td>\n",
       "      <td>Porto</td>\n",
       "      <td>Female</td>\n",
       "      <td>65+</td>\n",
       "      <td>32475.790502</td>\n",
       "      <td>2111.316092</td>\n",
       "    </tr>\n",
       "  </tbody>\n",
       "</table>\n",
       "</div>"
      ],
      "text/plain": [
       "      County_of_Origin Region_of_Public_Transportation  \\\n",
       "13836             Maia                   R2 - AM Porto   \n",
       "13088         Gondomar                   R2 - AM Porto   \n",
       "13187         Gondomar                   R2 - AM Porto   \n",
       "12868         Gondomar                   R2 - AM Porto   \n",
       "13946             Maia                   R2 - AM Porto   \n",
       "13990             Maia                   R2 - AM Porto   \n",
       "15682            Porto                   R2 - AM Porto   \n",
       "12978         Gondomar                   R2 - AM Porto   \n",
       "14001             Maia                   R2 - AM Porto   \n",
       "13022         Gondomar                   R2 - AM Porto   \n",
       "\n",
       "      District_of_Public_Transportation County_of_Public_Transportation  \\\n",
       "13836                             PORTO                           PORTO   \n",
       "13088                             PORTO                           PORTO   \n",
       "13187                             PORTO                        GONDOMAR   \n",
       "12868                             PORTO                           PORTO   \n",
       "13946                             PORTO                           PORTO   \n",
       "13990                             PORTO                      MATOSINHOS   \n",
       "15682                             PORTO                           PORTO   \n",
       "12978                             PORTO                           PORTO   \n",
       "14001                             PORTO                           PORTO   \n",
       "13022                             PORTO                           PORTO   \n",
       "\n",
       "       Demand_weight                                          freguesia  \\\n",
       "13836       0.380782  União das freguesias de Cedofeita, Santo Ildef...   \n",
       "13088       0.295123                                           Campanhã   \n",
       "13187       0.191129                                          Rio Tinto   \n",
       "12868       0.172608  União das freguesias de Cedofeita, Santo Ildef...   \n",
       "13946       0.159660                                           Paranhos   \n",
       "13990       0.128280  União das freguesias de Custóias, Leça do Bali...   \n",
       "15682       0.365206  União das freguesias de Cedofeita, Santo Ildef...   \n",
       "12978       0.073846                                           Paranhos   \n",
       "14001       0.070124                                             Bonfim   \n",
       "13022       0.065012                                             Bonfim   \n",
       "\n",
       "      Region_of_Origin_y District_of_Origin_y GenderDescription  \\\n",
       "13836      R2 - AM Porto                Porto              Male   \n",
       "13088      R2 - AM Porto                Porto            Female   \n",
       "13187      R2 - AM Porto                Porto            Female   \n",
       "12868      R2 - AM Porto                Porto            Female   \n",
       "13946      R2 - AM Porto                Porto              Male   \n",
       "13990      R2 - AM Porto                Porto              Male   \n",
       "15682      R2 - AM Porto                Porto              Male   \n",
       "12978      R2 - AM Porto                Porto            Female   \n",
       "14001      R2 - AM Porto                Porto              Male   \n",
       "13022      R2 - AM Porto                Porto            Female   \n",
       "\n",
       "      AgeClassDescription        Change  Demand_change  \n",
       "13836                 65+  30134.699342   11474.751085  \n",
       "13088                 65+  32475.790502    9584.352720  \n",
       "13187                 65+  32475.790502    6207.065363  \n",
       "12868                 65+  32475.790502    5605.581247  \n",
       "13946                 65+  30134.699342    4811.306097  \n",
       "13990                 65+  30134.699342    3865.679232  \n",
       "15682                 65+   6568.967914    2399.026496  \n",
       "12978                 65+  32475.790502    2398.207225  \n",
       "14001                 65+  30134.699342    2113.165657  \n",
       "13022                 65+  32475.790502    2111.316092  "
      ]
     },
     "execution_count": 61,
     "metadata": {},
     "output_type": "execute_result"
    }
   ],
   "source": [
    "es_demands.sort_values('Demand_change', ascending = False).head(10)"
   ]
  },
  {
   "cell_type": "code",
   "execution_count": null,
   "id": "demonstrated-annual",
   "metadata": {},
   "outputs": [],
   "source": []
  }
 ],
 "metadata": {
  "kernelspec": {
   "display_name": "Python 3",
   "language": "python",
   "name": "python3"
  },
  "language_info": {
   "codemirror_mode": {
    "name": "ipython",
    "version": 3
   },
   "file_extension": ".py",
   "mimetype": "text/x-python",
   "name": "python",
   "nbconvert_exporter": "python",
   "pygments_lexer": "ipython3",
   "version": "3.9.2"
  }
 },
 "nbformat": 4,
 "nbformat_minor": 5
}
