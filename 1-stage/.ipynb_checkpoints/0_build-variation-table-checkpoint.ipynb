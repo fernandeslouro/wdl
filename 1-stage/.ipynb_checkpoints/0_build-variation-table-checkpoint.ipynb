{
 "cells": [
  {
   "cell_type": "markdown",
   "id": "great-profession",
   "metadata": {},
   "source": [
    "This notebook outputs a csv file containing the **Variation** table. \n",
    "This table is obtained from the Churn_usersProfile.txt file. It contains, for each of the demographics (combinations of Origin County, Gender and Age), a value for the **variation in travellers between the first and second time periods** (in relative and absolute terms).  \n",
    "If the variation values are negative for a row, that means there was churn for the specific demographic.  \n",
    "Note that there are a number of demographics for which only the value in travellers for the first or second was captured. These cases are left out from this 'Variation' table."
   ]
  },
  {
   "cell_type": "code",
   "execution_count": 1,
   "id": "technical-rhythm",
   "metadata": {},
   "outputs": [],
   "source": [
    "import pandas as pd\n",
    "import fiona\n",
    "from IPython.display import display"
   ]
  },
  {
   "cell_type": "markdown",
   "id": "creative-former",
   "metadata": {},
   "source": [
    "Importing the user profiles Table"
   ]
  },
  {
   "cell_type": "code",
   "execution_count": 2,
   "id": "compact-optimization",
   "metadata": {},
   "outputs": [],
   "source": [
    "Churn_UsersProfile = pd.read_csv('https://wdl-data.fra1.digitaloceanspaces.com/pse/Churn_UsersProfile.txt',\n",
    "                                 encoding = \"ISO-8859-1\",\n",
    "                                sep='|')"
   ]
  },
  {
   "cell_type": "markdown",
   "id": "stainless-connectivity",
   "metadata": {},
   "source": [
    "Remove rows of table for which only a single number of travellers was recorded (eg. there is only a value for 'Sep-19 to Feb-20', but not for' Sep-20 to Jan-21')"
   ]
  },
  {
   "cell_type": "code",
   "execution_count": 3,
   "id": "suspected-increase",
   "metadata": {},
   "outputs": [],
   "source": [
    "profiles_gb = Churn_UsersProfile.groupby(['County_of_Origin','GenderDescription', 'AgeClassDescription']).size().to_frame()"
   ]
  },
  {
   "cell_type": "code",
   "execution_count": 4,
   "id": "french-episode",
   "metadata": {},
   "outputs": [],
   "source": [
    "single_period = profiles_gb[profiles_gb.values==1].reset_index()"
   ]
  },
  {
   "cell_type": "code",
   "execution_count": 5,
   "id": "greater-magnet",
   "metadata": {},
   "outputs": [],
   "source": [
    "two_periods = Churn_UsersProfile.merge(single_period, how='outer', indicator=True).query('_merge != \"both\"').drop(['_merge', 0], 1)"
   ]
  },
  {
   "cell_type": "markdown",
   "id": "familiar-allergy",
   "metadata": {},
   "source": [
    "Create two separate dataframes for values for the first and second time periods"
   ]
  },
  {
   "cell_type": "code",
   "execution_count": 6,
   "id": "logical-spray",
   "metadata": {},
   "outputs": [],
   "source": [
    "df_first = two_periods[two_periods.Period == 'Sep-19 to Feb-20'].drop('Period', axis=1).rename(columns={'Average_BusUsers_per_Day': 'Average_BusUsers_per_Day_first'})\n",
    "df_second = two_periods[two_periods.Period == 'Sep-20 to Jan-21'].drop('Period', axis=1).rename(columns={'Average_BusUsers_per_Day': 'Average_BusUsers_per_Day_second'})"
   ]
  },
  {
   "cell_type": "markdown",
   "id": "dying-neutral",
   "metadata": {},
   "source": [
    "Merge the two dataframes, so that we have in a single row the number of travellers for the first and second time periods"
   ]
  },
  {
   "cell_type": "code",
   "execution_count": 7,
   "id": "genetic-strap",
   "metadata": {},
   "outputs": [],
   "source": [
    "variation_df = df_first.merge(df_second, how='outer', indicator=True).drop('_merge', 1)"
   ]
  },
  {
   "cell_type": "markdown",
   "id": "north-harbor",
   "metadata": {},
   "source": [
    "Calculate relative and absolute variation values"
   ]
  },
  {
   "cell_type": "code",
   "execution_count": 8,
   "id": "martial-bullet",
   "metadata": {},
   "outputs": [],
   "source": [
    "variation_df['Variation_abs'] = variation_df.Average_BusUsers_per_Day_second - variation_df.Average_BusUsers_per_Day_first \n",
    "variation_df['Variation_rel'] = (variation_df.Average_BusUsers_per_Day_second - variation_df.Average_BusUsers_per_Day_first ) / variation_df.Average_BusUsers_per_Day_first\n",
    "#variation_df = variation_df.drop(['Average_BusUsers_per_Day_first', 'Average_BusUsers_per_Day_second'], 1)"
   ]
  },
  {
   "cell_type": "markdown",
   "id": "ignored-contents",
   "metadata": {},
   "source": [
    "Output to csv"
   ]
  },
  {
   "cell_type": "code",
   "execution_count": 11,
   "id": "liable-olympus",
   "metadata": {},
   "outputs": [],
   "source": [
    "variation_df.to_csv('intermediate-data/variation.csv', index=False)"
   ]
  },
  {
   "cell_type": "code",
   "execution_count": null,
   "id": "progressive-tribune",
   "metadata": {},
   "outputs": [],
   "source": []
  }
 ],
 "metadata": {
  "kernelspec": {
   "display_name": "Python 3",
   "language": "python",
   "name": "python3"
  },
  "language_info": {
   "codemirror_mode": {
    "name": "ipython",
    "version": 3
   },
   "file_extension": ".py",
   "mimetype": "text/x-python",
   "name": "python",
   "nbconvert_exporter": "python",
   "pygments_lexer": "ipython3",
   "version": "3.9.2"
  }
 },
 "nbformat": 4,
 "nbformat_minor": 5
}
