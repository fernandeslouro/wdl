{
 "cells": [
  {
   "cell_type": "code",
   "execution_count": 35,
   "metadata": {},
   "outputs": [],
   "source": [
    "import pandas as pd\n",
    "import json"
   ]
  },
  {
   "cell_type": "code",
   "execution_count": 22,
   "metadata": {},
   "outputs": [],
   "source": [
    "entities = pd.read_csv('data_entities.csv', encoding = \"ISO-8859-1\",\n",
    "                                sep=',')\n"
   ]
  },
  {
   "cell_type": "code",
   "execution_count": 36,
   "metadata": {},
   "outputs": [],
   "source": [
    "with open('POIs.json') as f:\n",
    "    data = json.load(f)"
   ]
  },
  {
   "cell_type": "code",
   "execution_count": 39,
   "metadata": {},
   "outputs": [
    {
     "data": {
      "text/plain": [
       "dict_keys(['points_of_interest'])"
      ]
     },
     "execution_count": 39,
     "metadata": {},
     "output_type": "execute_result"
    }
   ],
   "source": [
    "data.keys()"
   ]
  },
  {
   "cell_type": "raw",
   "metadata": {},
   "source": [
    "data.values()"
   ]
  },
  {
   "cell_type": "code",
   "execution_count": 38,
   "metadata": {},
   "outputs": [
    {
     "data": {
      "text/plain": [
       "dict"
      ]
     },
     "execution_count": 38,
     "metadata": {},
     "output_type": "execute_result"
    }
   ],
   "source": [
    "type(data)"
   ]
  },
  {
   "cell_type": "code",
   "execution_count": 34,
   "metadata": {},
   "outputs": [
    {
     "ename": "TypeError",
     "evalue": "read_json() got an unexpected keyword argument 'columns'",
     "output_type": "error",
     "traceback": [
      "\u001b[0;31m---------------------------------------------------------------------------\u001b[0m",
      "\u001b[0;31mTypeError\u001b[0m                                 Traceback (most recent call last)",
      "\u001b[0;32m<ipython-input-34-54e8e9f29d17>\u001b[0m in \u001b[0;36m<module>\u001b[0;34m\u001b[0m\n\u001b[0;32m----> 1\u001b[0;31m \u001b[0mpois\u001b[0m \u001b[0;34m=\u001b[0m \u001b[0mpd\u001b[0m\u001b[0;34m.\u001b[0m\u001b[0mread_json\u001b[0m\u001b[0;34m(\u001b[0m\u001b[0;34m'POIs.json'\u001b[0m\u001b[0;34m,\u001b[0m \u001b[0mcolumns\u001b[0m\u001b[0;34m=\u001b[0m\u001b[0;34m[\u001b[0m\u001b[0;34m'active'\u001b[0m\u001b[0;34m,\u001b[0m \u001b[0;34m'author'\u001b[0m\u001b[0;34m]\u001b[0m\u001b[0;34m)\u001b[0m\u001b[0;34m\u001b[0m\u001b[0;34m\u001b[0m\u001b[0m\n\u001b[0m\u001b[1;32m      2\u001b[0m \u001b[0mpois\u001b[0m\u001b[0;34m\u001b[0m\u001b[0;34m\u001b[0m\u001b[0m\n",
      "\u001b[0;32m~/.local/lib/python3.8/site-packages/pandas/util/_decorators.py\u001b[0m in \u001b[0;36mwrapper\u001b[0;34m(*args, **kwargs)\u001b[0m\n\u001b[1;32m    197\u001b[0m                 \u001b[0;32melse\u001b[0m\u001b[0;34m:\u001b[0m\u001b[0;34m\u001b[0m\u001b[0;34m\u001b[0m\u001b[0m\n\u001b[1;32m    198\u001b[0m                     \u001b[0mkwargs\u001b[0m\u001b[0;34m[\u001b[0m\u001b[0mnew_arg_name\u001b[0m\u001b[0;34m]\u001b[0m \u001b[0;34m=\u001b[0m \u001b[0mnew_arg_value\u001b[0m\u001b[0;34m\u001b[0m\u001b[0;34m\u001b[0m\u001b[0m\n\u001b[0;32m--> 199\u001b[0;31m             \u001b[0;32mreturn\u001b[0m \u001b[0mfunc\u001b[0m\u001b[0;34m(\u001b[0m\u001b[0;34m*\u001b[0m\u001b[0margs\u001b[0m\u001b[0;34m,\u001b[0m \u001b[0;34m**\u001b[0m\u001b[0mkwargs\u001b[0m\u001b[0;34m)\u001b[0m\u001b[0;34m\u001b[0m\u001b[0;34m\u001b[0m\u001b[0m\n\u001b[0m\u001b[1;32m    200\u001b[0m \u001b[0;34m\u001b[0m\u001b[0m\n\u001b[1;32m    201\u001b[0m         \u001b[0;32mreturn\u001b[0m \u001b[0mcast\u001b[0m\u001b[0;34m(\u001b[0m\u001b[0mF\u001b[0m\u001b[0;34m,\u001b[0m \u001b[0mwrapper\u001b[0m\u001b[0;34m)\u001b[0m\u001b[0;34m\u001b[0m\u001b[0;34m\u001b[0m\u001b[0m\n",
      "\u001b[0;32m~/.local/lib/python3.8/site-packages/pandas/util/_decorators.py\u001b[0m in \u001b[0;36mwrapper\u001b[0;34m(*args, **kwargs)\u001b[0m\n\u001b[1;32m    294\u001b[0m                 )\n\u001b[1;32m    295\u001b[0m                 \u001b[0mwarnings\u001b[0m\u001b[0;34m.\u001b[0m\u001b[0mwarn\u001b[0m\u001b[0;34m(\u001b[0m\u001b[0mmsg\u001b[0m\u001b[0;34m,\u001b[0m \u001b[0mFutureWarning\u001b[0m\u001b[0;34m,\u001b[0m \u001b[0mstacklevel\u001b[0m\u001b[0;34m=\u001b[0m\u001b[0mstacklevel\u001b[0m\u001b[0;34m)\u001b[0m\u001b[0;34m\u001b[0m\u001b[0;34m\u001b[0m\u001b[0m\n\u001b[0;32m--> 296\u001b[0;31m             \u001b[0;32mreturn\u001b[0m \u001b[0mfunc\u001b[0m\u001b[0;34m(\u001b[0m\u001b[0;34m*\u001b[0m\u001b[0margs\u001b[0m\u001b[0;34m,\u001b[0m \u001b[0;34m**\u001b[0m\u001b[0mkwargs\u001b[0m\u001b[0;34m)\u001b[0m\u001b[0;34m\u001b[0m\u001b[0;34m\u001b[0m\u001b[0m\n\u001b[0m\u001b[1;32m    297\u001b[0m \u001b[0;34m\u001b[0m\u001b[0m\n\u001b[1;32m    298\u001b[0m         \u001b[0;32mreturn\u001b[0m \u001b[0mwrapper\u001b[0m\u001b[0;34m\u001b[0m\u001b[0;34m\u001b[0m\u001b[0m\n",
      "\u001b[0;31mTypeError\u001b[0m: read_json() got an unexpected keyword argument 'columns'"
     ]
    }
   ],
   "source": [
    "pois = pd.read_json('POIs.json', columns=['active', 'author'])\n",
    "pois"
   ]
  },
  {
   "cell_type": "code",
   "execution_count": 17,
   "metadata": {},
   "outputs": [
    {
     "data": {
      "text/html": [
       "<div>\n",
       "<style scoped>\n",
       "    .dataframe tbody tr th:only-of-type {\n",
       "        vertical-align: middle;\n",
       "    }\n",
       "\n",
       "    .dataframe tbody tr th {\n",
       "        vertical-align: top;\n",
       "    }\n",
       "\n",
       "    .dataframe thead th {\n",
       "        text-align: right;\n",
       "    }\n",
       "</style>\n",
       "<table border=\"1\" class=\"dataframe\">\n",
       "  <thead>\n",
       "    <tr style=\"text-align: right;\">\n",
       "      <th></th>\n",
       "      <th></th>\n",
       "      <th>entity_id</th>\n",
       "      <th>name</th>\n",
       "      <th>latitude</th>\n",
       "      <th>longitude</th>\n",
       "      <th>entity_type</th>\n",
       "      <th>street</th>\n",
       "      <th>start_date</th>\n",
       "      <th>end_date</th>\n",
       "    </tr>\n",
       "  </thead>\n",
       "  <tbody>\n",
       "    <tr>\n",
       "      <th>testsixsq</th>\n",
       "      <th>Rua dos Campeões Europeus</th>\n",
       "      <td>41</td>\n",
       "      <td>162589760000003</td>\n",
       "      <td>-8</td>\n",
       "      <td>5851981169999991</td>\n",
       "      <td>TrafficFlowObserved</td>\n",
       "      <td>Rua dos Campeões Europeus</td>\n",
       "      <td>NaN</td>\n",
       "      <td>NaN</td>\n",
       "    </tr>\n",
       "    <tr>\n",
       "      <th>urn:ngsi-ld:TrafficFlowObserved:porto:traffic:CMP:CT10Z2</th>\n",
       "      <th>R. Fernandes Tomás - 24 de Agosto</th>\n",
       "      <td>41</td>\n",
       "      <td>148405920000002</td>\n",
       "      <td>-8</td>\n",
       "      <td>5990938559999996</td>\n",
       "      <td>TrafficFlowObserved</td>\n",
       "      <td>Rua de Fernandes Tomás</td>\n",
       "      <td>NaN</td>\n",
       "      <td>NaN</td>\n",
       "    </tr>\n",
       "  </tbody>\n",
       "</table>\n",
       "</div>"
      ],
      "text/plain": [
       "                                                                                      entity_id  \\\n",
       "testsixsq                                          Rua dos Campeões Europeus                 41   \n",
       "urn:ngsi-ld:TrafficFlowObserved:porto:traffic:C... R. Fernandes Tomás - 24 de Agosto         41   \n",
       "\n",
       "                                                                                                 name  \\\n",
       "testsixsq                                          Rua dos Campeões Europeus          162589760000003   \n",
       "urn:ngsi-ld:TrafficFlowObserved:porto:traffic:C... R. Fernandes Tomás - 24 de Agosto  148405920000002   \n",
       "\n",
       "                                                                                      latitude  \\\n",
       "testsixsq                                          Rua dos Campeões Europeus                -8   \n",
       "urn:ngsi-ld:TrafficFlowObserved:porto:traffic:C... R. Fernandes Tomás - 24 de Agosto        -8   \n",
       "\n",
       "                                                                                             longitude  \\\n",
       "testsixsq                                          Rua dos Campeões Europeus          5851981169999991   \n",
       "urn:ngsi-ld:TrafficFlowObserved:porto:traffic:C... R. Fernandes Tomás - 24 de Agosto  5990938559999996   \n",
       "\n",
       "                                                                                              entity_type  \\\n",
       "testsixsq                                          Rua dos Campeões Europeus          TrafficFlowObserved   \n",
       "urn:ngsi-ld:TrafficFlowObserved:porto:traffic:C... R. Fernandes Tomás - 24 de Agosto  TrafficFlowObserved   \n",
       "\n",
       "                                                                                                         street  \\\n",
       "testsixsq                                          Rua dos Campeões Europeus          Rua dos Campeões Europeus   \n",
       "urn:ngsi-ld:TrafficFlowObserved:porto:traffic:C... R. Fernandes Tomás - 24 de Agosto     Rua de Fernandes Tomás   \n",
       "\n",
       "                                                                                      start_date  \\\n",
       "testsixsq                                          Rua dos Campeões Europeus                 NaN   \n",
       "urn:ngsi-ld:TrafficFlowObserved:porto:traffic:C... R. Fernandes Tomás - 24 de Agosto         NaN   \n",
       "\n",
       "                                                                                      end_date  \n",
       "testsixsq                                          Rua dos Campeões Europeus               NaN  \n",
       "urn:ngsi-ld:TrafficFlowObserved:porto:traffic:C... R. Fernandes Tomás - 24 de Agosto       NaN  "
      ]
     },
     "execution_count": 17,
     "metadata": {},
     "output_type": "execute_result"
    }
   ],
   "source": [
    "entities.head(2)"
   ]
  },
  {
   "cell_type": "code",
   "execution_count": 16,
   "metadata": {},
   "outputs": [
    {
     "data": {
      "text/html": [
       "<div>\n",
       "<style scoped>\n",
       "    .dataframe tbody tr th:only-of-type {\n",
       "        vertical-align: middle;\n",
       "    }\n",
       "\n",
       "    .dataframe tbody tr th {\n",
       "        vertical-align: top;\n",
       "    }\n",
       "\n",
       "    .dataframe thead th {\n",
       "        text-align: right;\n",
       "    }\n",
       "</style>\n",
       "<table border=\"1\" class=\"dataframe\">\n",
       "  <thead>\n",
       "    <tr style=\"text-align: right;\">\n",
       "      <th></th>\n",
       "      <th>name</th>\n",
       "    </tr>\n",
       "    <tr>\n",
       "      <th>entity_type</th>\n",
       "      <th></th>\n",
       "    </tr>\n",
       "  </thead>\n",
       "  <tbody>\n",
       "    <tr>\n",
       "      <th>AirQualityObserved</th>\n",
       "      <td>10</td>\n",
       "    </tr>\n",
       "    <tr>\n",
       "      <th>NoiseLevelObserved</th>\n",
       "      <td>18</td>\n",
       "    </tr>\n",
       "    <tr>\n",
       "      <th>TrafficFlowObserved</th>\n",
       "      <td>130</td>\n",
       "    </tr>\n",
       "    <tr>\n",
       "      <th>WeatherObserved</th>\n",
       "      <td>28</td>\n",
       "    </tr>\n",
       "  </tbody>\n",
       "</table>\n",
       "</div>"
      ],
      "text/plain": [
       "                     name\n",
       "entity_type              \n",
       "AirQualityObserved     10\n",
       "NoiseLevelObserved     18\n",
       "TrafficFlowObserved   130\n",
       "WeatherObserved        28"
      ]
     },
     "execution_count": 16,
     "metadata": {},
     "output_type": "execute_result"
    }
   ],
   "source": [
    "entities.groupby('entity_type').count()[['name']]"
   ]
  },
  {
   "cell_type": "code",
   "execution_count": 42,
   "metadata": {},
   "outputs": [],
   "source": [
    "sensors = pd.read_csv('traffic_flow_2021.csv', encoding = \"ISO-8859-1\")"
   ]
  },
  {
   "cell_type": "code",
   "execution_count": 43,
   "metadata": {},
   "outputs": [
    {
     "data": {
      "text/html": [
       "<div>\n",
       "<style scoped>\n",
       "    .dataframe tbody tr th:only-of-type {\n",
       "        vertical-align: middle;\n",
       "    }\n",
       "\n",
       "    .dataframe tbody tr th {\n",
       "        vertical-align: top;\n",
       "    }\n",
       "\n",
       "    .dataframe thead th {\n",
       "        text-align: right;\n",
       "    }\n",
       "</style>\n",
       "<table border=\"1\" class=\"dataframe\">\n",
       "  <thead>\n",
       "    <tr style=\"text-align: right;\">\n",
       "      <th></th>\n",
       "      <th>entity_id</th>\n",
       "      <th>entity_type</th>\n",
       "      <th>dateobservedfrom</th>\n",
       "      <th>dateobservedto</th>\n",
       "      <th>dataprovider</th>\n",
       "      <th>intensity</th>\n",
       "      <th>source</th>\n",
       "      <th>laneid</th>\n",
       "      <th>lanedirection</th>\n",
       "      <th>date_from</th>\n",
       "      <th>time_from</th>\n",
       "      <th>name</th>\n",
       "    </tr>\n",
       "  </thead>\n",
       "  <tbody>\n",
       "    <tr>\n",
       "      <th>0</th>\n",
       "      <td>urn:ngsi-ld:TrafficFlowObserved:porto:traffic:...</td>\n",
       "      <td>TrafficFlowObserved</td>\n",
       "      <td>2021-02-15 22:20:00</td>\n",
       "      <td>2021-02-15 22:25:00</td>\n",
       "      <td>NaN</td>\n",
       "      <td>6</td>\n",
       "      <td>NaN</td>\n",
       "      <td>1</td>\n",
       "      <td>NaN</td>\n",
       "      <td>2021-02-15</td>\n",
       "      <td>22:20:00.0000000</td>\n",
       "      <td>R. Alegria</td>\n",
       "    </tr>\n",
       "    <tr>\n",
       "      <th>1</th>\n",
       "      <td>urn:ngsi-ld:TrafficFlowObserved:porto:traffic:...</td>\n",
       "      <td>TrafficFlowObserved</td>\n",
       "      <td>2021-02-15 22:20:00</td>\n",
       "      <td>2021-02-15 22:25:00</td>\n",
       "      <td>NaN</td>\n",
       "      <td>10</td>\n",
       "      <td>NaN</td>\n",
       "      <td>1</td>\n",
       "      <td>NaN</td>\n",
       "      <td>2021-02-15</td>\n",
       "      <td>22:20:00.0000000</td>\n",
       "      <td>R. Santa Catarina - S-N</td>\n",
       "    </tr>\n",
       "    <tr>\n",
       "      <th>2</th>\n",
       "      <td>urn:ngsi-ld:TrafficFlowObserved:porto:traffic:...</td>\n",
       "      <td>TrafficFlowObserved</td>\n",
       "      <td>2021-02-15 22:15:00</td>\n",
       "      <td>2021-02-15 22:20:00</td>\n",
       "      <td>NaN</td>\n",
       "      <td>9</td>\n",
       "      <td>NaN</td>\n",
       "      <td>1</td>\n",
       "      <td>NaN</td>\n",
       "      <td>2021-02-15</td>\n",
       "      <td>22:15:00.0000000</td>\n",
       "      <td>Av.Sidónio Pais O-E - Rotunda</td>\n",
       "    </tr>\n",
       "  </tbody>\n",
       "</table>\n",
       "</div>"
      ],
      "text/plain": [
       "                                           entity_id          entity_type  \\\n",
       "0  urn:ngsi-ld:TrafficFlowObserved:porto:traffic:...  TrafficFlowObserved   \n",
       "1  urn:ngsi-ld:TrafficFlowObserved:porto:traffic:...  TrafficFlowObserved   \n",
       "2  urn:ngsi-ld:TrafficFlowObserved:porto:traffic:...  TrafficFlowObserved   \n",
       "\n",
       "      dateobservedfrom       dateobservedto  dataprovider  intensity  source  \\\n",
       "0  2021-02-15 22:20:00  2021-02-15 22:25:00           NaN          6     NaN   \n",
       "1  2021-02-15 22:20:00  2021-02-15 22:25:00           NaN         10     NaN   \n",
       "2  2021-02-15 22:15:00  2021-02-15 22:20:00           NaN          9     NaN   \n",
       "\n",
       "   laneid  lanedirection   date_from         time_from  \\\n",
       "0       1            NaN  2021-02-15  22:20:00.0000000   \n",
       "1       1            NaN  2021-02-15  22:20:00.0000000   \n",
       "2       1            NaN  2021-02-15  22:15:00.0000000   \n",
       "\n",
       "                            name  \n",
       "0                     R. Alegria  \n",
       "1        R. Santa Catarina - S-N  \n",
       "2  Av.Sidónio Pais O-E - Rotunda  "
      ]
     },
     "execution_count": 43,
     "metadata": {},
     "output_type": "execute_result"
    }
   ],
   "source": [
    "sensors.head(3)"
   ]
  },
  {
   "cell_type": "code",
   "execution_count": 53,
   "metadata": {},
   "outputs": [
    {
     "data": {
      "text/plain": [
       "urn:ngsi-ld:TrafficFlowObserved:porto:traffic:CMP:CT4Z10    25770\n",
       "urn:ngsi-ld:TrafficFlowObserved:porto:traffic:CMP:CT21Z3    25298\n",
       "urn:ngsi-ld:TrafficFlowObserved:porto:traffic:CMP:CT3Z3     25234\n",
       "urn:ngsi-ld:TrafficFlowObserved:porto:traffic:CMP:CT10Z8    25226\n",
       "urn:ngsi-ld:TrafficFlowObserved:porto:traffic:CMP:CT14Z9    25190\n",
       "                                                            ...  \n",
       "urn:ngsi-ld:TrafficFlowObserved:porto:traffic:CMP:CT1Z4        12\n",
       "urn:ngsi-ld:TrafficFlowObserved:porto:traffic:CMP:CT3Z7         5\n",
       "urn:ngsi-ld:TrafficFlowObserved:porto:traffic:CMP:CT14Z2        3\n",
       "urn:ngsi-ld:TrafficFlowObserved:porto:traffic:CMP:CT4Z4         3\n",
       "urn:ngsi-ld:TrafficFlowObserved:porto:traffic:CMP:CT3Z5         1\n",
       "Name: entity_id, Length: 91, dtype: int64"
      ]
     },
     "execution_count": 53,
     "metadata": {},
     "output_type": "execute_result"
    }
   ],
   "source": [
    "sensors.entity_id.value_counts()"
   ]
  },
  {
   "cell_type": "code",
   "execution_count": 56,
   "metadata": {},
   "outputs": [],
   "source": [
    "ss = sensors[['entity_id', 'entity_type']]"
   ]
  },
  {
   "cell_type": "code",
   "execution_count": 93,
   "metadata": {},
   "outputs": [],
   "source": [
    "sensors.entity_id=pd.DataFrame(sensors.entity_id.str.split(':',6).tolist(), columns=['a', 'b', 'c', 'd', 'e', 'f', 'entity'])[['entity']]"
   ]
  },
  {
   "cell_type": "code",
   "execution_count": 95,
   "metadata": {},
   "outputs": [
    {
     "data": {
      "text/plain": [
       "count    1.778491e+06\n",
       "mean     3.348608e+01\n",
       "std      1.940210e+02\n",
       "min      1.000000e+00\n",
       "25%      4.000000e+00\n",
       "50%      1.300000e+01\n",
       "75%      2.800000e+01\n",
       "max      4.515000e+03\n",
       "Name: intensity, dtype: float64"
      ]
     },
     "execution_count": 95,
     "metadata": {},
     "output_type": "execute_result"
    }
   ],
   "source": [
    "sensors.intensity.describe()"
   ]
  },
  {
   "cell_type": "code",
   "execution_count": 85,
   "metadata": {},
   "outputs": [
    {
     "data": {
      "text/plain": [
       "CT4Z10    25770\n",
       "CT21Z3    25298\n",
       "CT3Z3     25234\n",
       "CT10Z8    25226\n",
       "CT14Z9    25190\n",
       "          ...  \n",
       "CT1Z4        12\n",
       "CT3Z7         5\n",
       "CT14Z2        3\n",
       "CT4Z4         3\n",
       "CT3Z5         1\n",
       "Name: g, Length: 91, dtype: int64"
      ]
     },
     "execution_count": 85,
     "metadata": {},
     "output_type": "execute_result"
    }
   ],
   "source": [
    "ay.g.value_counts()"
   ]
  },
  {
   "cell_type": "code",
   "execution_count": null,
   "metadata": {},
   "outputs": [],
   "source": []
  },
  {
   "cell_type": "code",
   "execution_count": null,
   "metadata": {},
   "outputs": [],
   "source": []
  }
 ],
 "metadata": {
  "kernelspec": {
   "display_name": "Python 3",
   "language": "python",
   "name": "python3"
  },
  "language_info": {
   "codemirror_mode": {
    "name": "ipython",
    "version": 3
   },
   "file_extension": ".py",
   "mimetype": "text/x-python",
   "name": "python",
   "nbconvert_exporter": "python",
   "pygments_lexer": "ipython3",
   "version": "3.9.2"
  }
 },
 "nbformat": 4,
 "nbformat_minor": 4
}
