{
 "cells": [
  {
   "cell_type": "code",
   "execution_count": 8,
   "id": "cbd8a8d4",
   "metadata": {},
   "outputs": [],
   "source": [
    "import pandas as pd\n",
    "import numpy as np\n",
    "import matplotlib.pyplot as plt\n",
    "from PIL import Image, ImageDraw"
   ]
  },
  {
   "cell_type": "code",
   "execution_count": 13,
   "id": "41ee46dd",
   "metadata": {},
   "outputs": [],
   "source": [
    "entities = pd.read_csv('https://wdl-data.fra1.digitaloceanspaces.com/porto-digital/data_entities.csv', encoding = \"ISO-8859-1\",\n",
    "                                sep=',')\n",
    "\n",
    "entities =entities[entities.latitude>41]\n",
    "\n",
    "entities.entity_type.unique()\n",
    "\n",
    "entities = entities[entities.entity_type!='TrafficFlowObserved']\n",
    "\n",
    "BBox = ((entities.longitude.min(),   entities.longitude.max(),      \n",
    "         entities.latitude.min(), entities.latitude.max()))\n",
    "\n",
    "ruh_m = plt.imread('map.png')\n",
    "fig, ax = plt.subplots(figsize = (30,30))\n",
    "\n",
    "\n",
    "ax.scatter(entities[entities.entity_type=='TrafficFlowObserved'].longitude, entities[entities.entity_type=='TrafficFlowObserved'].latitude, zorder=3, alpha= 0.4, c='b', s=5000)\n",
    "ax.scatter(entities[entities.entity_type=='AirQualityObserved'].longitude, entities[entities.entity_type=='AirQualityObserved'].latitude, zorder=2, alpha= 0.4, c='r', s=5000)\n",
    "ax.scatter(entities[entities.entity_type=='WeatherObserved'].longitude, entities[entities.entity_type=='WeatherObserved'].latitude, zorder=1, alpha= 0.2, c='y', s=5000)\n",
    "\n",
    "ax.set_xlim(BBox[0],BBox[1])\n",
    "ax.set_ylim(BBox[2],BBox[3])\n",
    "ax.imshow(ruh_m, zorder=0, extent = BBox, aspect= 'equal')"
   ]
  },
  {
   "cell_type": "code",
   "execution_count": 7,
   "id": "65d76641",
   "metadata": {},
   "outputs": [
    {
     "ename": "NameError",
     "evalue": "name 'a' is not defined",
     "output_type": "error",
     "traceback": [
      "\u001b[0;31m---------------------------------------------------------------------------\u001b[0m",
      "\u001b[0;31mNameError\u001b[0m                                 Traceback (most recent call last)",
      "\u001b[0;32m<ipython-input-7-8f6244b3691f>\u001b[0m in \u001b[0;36m<module>\u001b[0;34m\u001b[0m\n\u001b[0;32m----> 1\u001b[0;31m \u001b[0ma\u001b[0m\u001b[0;34m.\u001b[0m\u001b[0mmin\u001b[0m\u001b[0;34m(\u001b[0m\u001b[0;34m)\u001b[0m\u001b[0;34m\u001b[0m\u001b[0;34m\u001b[0m\u001b[0m\n\u001b[0m",
      "\u001b[0;31mNameError\u001b[0m: name 'a' is not defined"
     ]
    }
   ],
   "source": [
    "a.min()"
   ]
  },
  {
   "cell_type": "code",
   "execution_count": null,
   "id": "d8c61406",
   "metadata": {},
   "outputs": [],
   "source": [
    "import numpy as np\n",
    "import matplotlib.pyplot as plt\n",
    "\n",
    "b, a = np.meshgrid(np.array(entities.longitude), np.array(entities.latitude))\n",
    "\n",
    "c = ( a ** 2 + b ** 2) * np.exp(-a ** 2 - b ** 2)\n",
    "\n",
    "c = c[:-1, :-1]\n",
    "print(c[0, 0])\n",
    "l_a=a.min()\n",
    "r_a=a.max()\n",
    "l_b=b.min()\n",
    "r_b=b.max()\n",
    "l_c,r_c  = -np.abs(c).max(), np.abs(c).max()\n",
    "\n",
    "figure, axes = plt.subplots()\n",
    "\n",
    "c = axes.pcolormesh(a, b, c, cmap='copper', vmin=l_c, vmax=r_c)\n",
    "axes.set_title('Heatmap')\n",
    "axes.axis([l_a, r_a, l_b, r_b])\n",
    "figure.colorbar(c)\n",
    "\n",
    "plt.show()\n"
   ]
  },
  {
   "cell_type": "code",
   "execution_count": null,
   "id": "d0f2f0de",
   "metadata": {},
   "outputs": [],
   "source": []
  }
 ],
 "metadata": {
  "kernelspec": {
   "display_name": "Python 3",
   "language": "python",
   "name": "python3"
  },
  "language_info": {
   "codemirror_mode": {
    "name": "ipython",
    "version": 3
   },
   "file_extension": ".py",
   "mimetype": "text/x-python",
   "name": "python",
   "nbconvert_exporter": "python",
   "pygments_lexer": "ipython3",
   "version": "3.9.2"
  }
 },
 "nbformat": 4,
 "nbformat_minor": 5
}
