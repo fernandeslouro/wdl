{
 "cells": [
  {
   "cell_type": "code",
   "execution_count": 65,
   "metadata": {},
   "outputs": [],
   "source": [
    "import pandas as pd\n",
    "from datetime import date, timedelta"
   ]
  },
  {
   "cell_type": "code",
   "execution_count": 66,
   "metadata": {},
   "outputs": [],
   "source": [
    "wt = pd.read_csv('weather_observed_2021.csv',  encoding = \"ISO-8859-1\")"
   ]
  },
  {
   "cell_type": "code",
   "execution_count": 67,
   "metadata": {},
   "outputs": [],
   "source": [
    "weather = wt.groupby('observed_date')[['precipitation', 'relativehumidity', 'temperature', 'windspeed']].mean().reset_index()"
   ]
  },
  {
   "cell_type": "code",
   "execution_count": 68,
   "metadata": {},
   "outputs": [],
   "source": [
    "today_weather['observed_date'] =  pd.to_datetime(today_weather['observed_date'], format='%Y-%m-%d')"
   ]
  },
  {
   "cell_type": "code",
   "execution_count": 69,
   "metadata": {},
   "outputs": [],
   "source": [
    "weather_2d = today_weather.copy()"
   ]
  },
  {
   "cell_type": "code",
   "execution_count": 70,
   "metadata": {},
   "outputs": [],
   "source": [
    "weather_2d['observed_date'] = weather_2d['observed_date']+timedelta(2)"
   ]
  },
  {
   "cell_type": "code",
   "execution_count": 71,
   "metadata": {},
   "outputs": [],
   "source": [
    "weather_2d = weather_2d.rename(columns ={'precipitation': '2d_precipitation', 'relativehumidity':'2d_relativehumidity', 'temperature': '2d_temperature', 'windspeed':'2d_windspeed'} )"
   ]
  },
  {
   "cell_type": "code",
   "execution_count": 72,
   "metadata": {},
   "outputs": [
    {
     "data": {
      "text/html": [
       "<div>\n",
       "<style scoped>\n",
       "    .dataframe tbody tr th:only-of-type {\n",
       "        vertical-align: middle;\n",
       "    }\n",
       "\n",
       "    .dataframe tbody tr th {\n",
       "        vertical-align: top;\n",
       "    }\n",
       "\n",
       "    .dataframe thead th {\n",
       "        text-align: right;\n",
       "    }\n",
       "</style>\n",
       "<table border=\"1\" class=\"dataframe\">\n",
       "  <thead>\n",
       "    <tr style=\"text-align: right;\">\n",
       "      <th></th>\n",
       "      <th>observed_date</th>\n",
       "      <th>2d_precipitation</th>\n",
       "      <th>2d_relativehumidity</th>\n",
       "      <th>2d_temperature</th>\n",
       "      <th>2d_windspeed</th>\n",
       "    </tr>\n",
       "  </thead>\n",
       "  <tbody>\n",
       "    <tr>\n",
       "      <th>0</th>\n",
       "      <td>2021-01-03</td>\n",
       "      <td>0.042417</td>\n",
       "      <td>0.963666</td>\n",
       "      <td>9.837122</td>\n",
       "      <td>1.550320</td>\n",
       "    </tr>\n",
       "    <tr>\n",
       "      <th>1</th>\n",
       "      <td>2021-01-04</td>\n",
       "      <td>0.003849</td>\n",
       "      <td>0.932737</td>\n",
       "      <td>6.598472</td>\n",
       "      <td>0.725139</td>\n",
       "    </tr>\n",
       "    <tr>\n",
       "      <th>2</th>\n",
       "      <td>2021-01-05</td>\n",
       "      <td>0.000307</td>\n",
       "      <td>0.935693</td>\n",
       "      <td>5.104826</td>\n",
       "      <td>0.528674</td>\n",
       "    </tr>\n",
       "    <tr>\n",
       "      <th>3</th>\n",
       "      <td>2021-01-06</td>\n",
       "      <td>0.006160</td>\n",
       "      <td>0.953861</td>\n",
       "      <td>5.045624</td>\n",
       "      <td>0.631756</td>\n",
       "    </tr>\n",
       "    <tr>\n",
       "      <th>4</th>\n",
       "      <td>2021-01-07</td>\n",
       "      <td>0.000495</td>\n",
       "      <td>0.962516</td>\n",
       "      <td>5.951128</td>\n",
       "      <td>0.437240</td>\n",
       "    </tr>\n",
       "    <tr>\n",
       "      <th>...</th>\n",
       "      <td>...</td>\n",
       "      <td>...</td>\n",
       "      <td>...</td>\n",
       "      <td>...</td>\n",
       "      <td>...</td>\n",
       "    </tr>\n",
       "    <tr>\n",
       "      <th>93</th>\n",
       "      <td>2021-04-08</td>\n",
       "      <td>0.000000</td>\n",
       "      <td>0.609635</td>\n",
       "      <td>19.051860</td>\n",
       "      <td>0.971850</td>\n",
       "    </tr>\n",
       "    <tr>\n",
       "      <th>94</th>\n",
       "      <td>2021-04-09</td>\n",
       "      <td>0.000000</td>\n",
       "      <td>0.801851</td>\n",
       "      <td>14.471388</td>\n",
       "      <td>0.712416</td>\n",
       "    </tr>\n",
       "    <tr>\n",
       "      <th>95</th>\n",
       "      <td>2021-04-10</td>\n",
       "      <td>0.000000</td>\n",
       "      <td>0.631031</td>\n",
       "      <td>16.093765</td>\n",
       "      <td>1.515959</td>\n",
       "    </tr>\n",
       "    <tr>\n",
       "      <th>96</th>\n",
       "      <td>2021-04-11</td>\n",
       "      <td>0.000000</td>\n",
       "      <td>0.816828</td>\n",
       "      <td>15.663924</td>\n",
       "      <td>0.889471</td>\n",
       "    </tr>\n",
       "    <tr>\n",
       "      <th>97</th>\n",
       "      <td>2021-04-12</td>\n",
       "      <td>0.000000</td>\n",
       "      <td>0.869077</td>\n",
       "      <td>13.391815</td>\n",
       "      <td>0.350736</td>\n",
       "    </tr>\n",
       "  </tbody>\n",
       "</table>\n",
       "<p>98 rows × 5 columns</p>\n",
       "</div>"
      ],
      "text/plain": [
       "   observed_date  2d_precipitation  2d_relativehumidity  2d_temperature  \\\n",
       "0     2021-01-03          0.042417             0.963666        9.837122   \n",
       "1     2021-01-04          0.003849             0.932737        6.598472   \n",
       "2     2021-01-05          0.000307             0.935693        5.104826   \n",
       "3     2021-01-06          0.006160             0.953861        5.045624   \n",
       "4     2021-01-07          0.000495             0.962516        5.951128   \n",
       "..           ...               ...                  ...             ...   \n",
       "93    2021-04-08          0.000000             0.609635       19.051860   \n",
       "94    2021-04-09          0.000000             0.801851       14.471388   \n",
       "95    2021-04-10          0.000000             0.631031       16.093765   \n",
       "96    2021-04-11          0.000000             0.816828       15.663924   \n",
       "97    2021-04-12          0.000000             0.869077       13.391815   \n",
       "\n",
       "    2d_windspeed  \n",
       "0       1.550320  \n",
       "1       0.725139  \n",
       "2       0.528674  \n",
       "3       0.631756  \n",
       "4       0.437240  \n",
       "..           ...  \n",
       "93      0.971850  \n",
       "94      0.712416  \n",
       "95      1.515959  \n",
       "96      0.889471  \n",
       "97      0.350736  \n",
       "\n",
       "[98 rows x 5 columns]"
      ]
     },
     "execution_count": 72,
     "metadata": {},
     "output_type": "execute_result"
    }
   ],
   "source": [
    "weather_2d"
   ]
  },
  {
   "cell_type": "code",
   "execution_count": null,
   "metadata": {},
   "outputs": [],
   "source": []
  }
 ],
 "metadata": {
  "kernelspec": {
   "display_name": "Python 3",
   "language": "python",
   "name": "python3"
  },
  "language_info": {
   "codemirror_mode": {
    "name": "ipython",
    "version": 3
   },
   "file_extension": ".py",
   "mimetype": "text/x-python",
   "name": "python",
   "nbconvert_exporter": "python",
   "pygments_lexer": "ipython3",
   "version": "3.8.3"
  }
 },
 "nbformat": 4,
 "nbformat_minor": 4
}
